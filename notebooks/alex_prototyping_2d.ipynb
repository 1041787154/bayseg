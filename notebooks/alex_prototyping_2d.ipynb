{
 "cells": [
  {
   "cell_type": "code",
   "execution_count": 1,
   "metadata": {},
   "outputs": [],
   "source": [
    "import numpy as np\n",
    "import seaborn\n",
    "import pandas as pd\n",
    "import importlib\n",
    "import matplotlib.pyplot as plt\n",
    "%matplotlib inline\n",
    "import scipy.stats\n",
    "\n",
    "import sys\n",
    "sys.path.append(\"../\")\n",
    "import bayseg"
   ]
  },
  {
   "cell_type": "markdown",
   "metadata": {},
   "source": [
    "### Create 2-dimensional latent field"
   ]
  },
  {
   "cell_type": "code",
   "execution_count": 2,
   "metadata": {
    "collapsed": true
   },
   "outputs": [],
   "source": [
    "n = 30\n",
    "m = 40"
   ]
  },
  {
   "cell_type": "code",
   "execution_count": 3,
   "metadata": {},
   "outputs": [
    {
     "data": {
      "text/plain": [
       "<matplotlib.colorbar.Colorbar at 0x12256be64e0>"
      ]
     },
     "execution_count": 3,
     "metadata": {},
     "output_type": "execute_result"
    },
    {
     "data": {
      "image/png": "[encoded data removed]",
      "text/plain": [
       "<matplotlib.figure.Figure at 0x12256a64ef0>"
      ]
     },
     "metadata": {},
     "output_type": "display_data"
    }
   ],
   "source": [
    "def func(x, y):\n",
    "    return np.sin(y * x)\n",
    "\n",
    "xaxis = np.linspace(0, 4, n)\n",
    "yaxis = np.linspace(0, 4, m)\n",
    "x, y = np.meshgrid(xaxis, yaxis)\n",
    "result = func(x, y)\n",
    "\n",
    "plt.imshow(result)\n",
    "plt.colorbar()"
   ]
  },
  {
   "cell_type": "code",
   "execution_count": 4,
   "metadata": {
    "collapsed": true
   },
   "outputs": [],
   "source": [
    "latent_2d = np.zeros_like(result)"
   ]
  },
  {
   "cell_type": "code",
   "execution_count": 5,
   "metadata": {},
   "outputs": [],
   "source": [
    "latent_2d[result > -0.5] = 1\n",
    "latent_2d[result > 0.5] = 2\n",
    "#latent_2d[0 >= result] = 1"
   ]
  },
  {
   "cell_type": "code",
   "execution_count": 6,
   "metadata": {},
   "outputs": [
    {
     "data": {
      "text/plain": [
       "array([ 0.,  1.,  2.])"
      ]
     },
     "execution_count": 6,
     "metadata": {},
     "output_type": "execute_result"
    }
   ],
   "source": [
    "np.unique(latent_2d)"
   ]
  },
  {
   "cell_type": "code",
   "execution_count": 7,
   "metadata": {},
   "outputs": [
    {
     "data": {
      "text/plain": [
       "<matplotlib.image.AxesImage at 0x12256f1d6d8>"
      ]
     },
     "execution_count": 7,
     "metadata": {},
     "output_type": "execute_result"
    },
    {
     "data": {
      "image/png": "[encoded data removed]",
      "text/plain": [
       "<matplotlib.figure.Figure at 0x122528d5278>"
      ]
     },
     "metadata": {},
     "output_type": "display_data"
    }
   ],
   "source": [
    "plt.imshow(latent_2d, interpolation=\"none\")"
   ]
  },
  {
   "cell_type": "raw",
   "metadata": {},
   "source": [
    "latent_2d = np.ones((n,m), dtype=\"int64\")\n",
    "latent_2d[2:6, 4:9] = 2\n",
    "latent_2d[6:8, 2:6] = 0\n",
    "latent_2d[0:2, 0:10] = 0\n",
    "latent_2d[0:2, 4:5] = 2\n",
    "\n",
    "plt.imshow(latent_2d)\n",
    "plt.grid(False)"
   ]
  },
  {
   "cell_type": "markdown",
   "metadata": {},
   "source": [
    "### Sample"
   ]
  },
  {
   "cell_type": "code",
   "execution_count": 8,
   "metadata": {
    "collapsed": true
   },
   "outputs": [],
   "source": [
    "f = 4\n",
    "c1 = scipy.stats.multivariate_normal([7.9, 7.5, 11, 3], np.eye(f) * 0.35)\n",
    "c2 = scipy.stats.multivariate_normal([8, 7.9, 10.7, 2.9], np.eye(f) * 1.55)\n",
    "c3 = scipy.stats.multivariate_normal([8.5, 9, 9, 1], np.eye(f) * 0.95)"
   ]
  },
  {
   "cell_type": "code",
   "execution_count": 9,
   "metadata": {},
   "outputs": [
    {
     "data": {
      "text/plain": [
       "(40, 30, 4)"
      ]
     },
     "execution_count": 9,
     "metadata": {},
     "output_type": "execute_result"
    }
   ],
   "source": [
    "obs = np.zeros((m,n,f))\n",
    "np.shape(obs)"
   ]
  },
  {
   "cell_type": "code",
   "execution_count": 10,
   "metadata": {},
   "outputs": [
    {
     "data": {
      "text/plain": [
       "1200"
      ]
     },
     "execution_count": 10,
     "metadata": {},
     "output_type": "execute_result"
    }
   ],
   "source": [
    "30*40"
   ]
  },
  {
   "cell_type": "code",
   "execution_count": 11,
   "metadata": {},
   "outputs": [
    {
     "data": {
      "text/plain": [
       "(40, 30)"
      ]
     },
     "execution_count": 11,
     "metadata": {},
     "output_type": "execute_result"
    }
   ],
   "source": [
    "latent_2d.shape"
   ]
  },
  {
   "cell_type": "code",
   "execution_count": 12,
   "metadata": {},
   "outputs": [],
   "source": [
    "for i, x in enumerate(latent_2d[:,0]):\n",
    "    for j, y in enumerate(latent_2d[0,:]):\n",
    "        # generate a 2-d random vector at each point\n",
    "        if latent_2d[i, j] == 0:\n",
    "            obs[i,j,:] = c1.rvs()\n",
    "        elif latent_2d[i, j] == 1:\n",
    "            obs[i,j,:] = c2.rvs()\n",
    "        elif latent_2d[i, j] == 2:\n",
    "            obs[i,j,:] = c3.rvs()"
   ]
  },
  {
   "cell_type": "code",
   "execution_count": 13,
   "metadata": {},
   "outputs": [
    {
     "data": {
      "image/png": "[encoded data removed]",
      "text/plain": [
       "<matplotlib.figure.Figure at 0x12256ecae10>"
      ]
     },
     "metadata": {},
     "output_type": "display_data"
    }
   ],
   "source": [
    "fig, ax = plt.subplots(ncols=5, figsize=(15,7))\n",
    "for i in range(f+1):\n",
    "    if i == 0:\n",
    "        ax[i].imshow(latent_2d, interpolation=\"nearest\")\n",
    "        ax[i].set_ylabel(\"y\")\n",
    "        ax[i].set_title(\"Latent Field\")\n",
    "    else:\n",
    "        ax[i].imshow(obs[:,:,i-1], interpolation=\"nearest\")\n",
    "        ax[i].set_title(\"Feature \" + str(i))\n",
    "    ax[i].grid(False)\n",
    "    ax[i].set_xlabel(\"x\")\n",
    "    "
   ]
  },
  {
   "cell_type": "markdown",
   "metadata": {},
   "source": [
    "### BaySeg initialization"
   ]
  },
  {
   "cell_type": "code",
   "execution_count": 70,
   "metadata": {},
   "outputs": [
    {
     "data": {
      "text/plain": [
       "(40, 30, 4)"
      ]
     },
     "execution_count": 70,
     "metadata": {},
     "output_type": "execute_result"
    }
   ],
   "source": [
    "np.shape(obs)"
   ]
  },
  {
   "cell_type": "code",
   "execution_count": 81,
   "metadata": {
    "collapsed": true
   },
   "outputs": [],
   "source": [
    "clf = bayseg.BaySeg(obs, 3, stamp=8)"
   ]
  },
  {
   "cell_type": "code",
   "execution_count": 82,
   "metadata": {},
   "outputs": [
    {
     "name": "stderr",
     "output_type": "stream",
     "text": [
      "100%|███████████████████████████████████████████████████████████████████████████████| 50/50 [00:10<00:00,  4.87it/s]\n"
     ]
    }
   ],
   "source": [
    "clf.fit(50)"
   ]
  },
  {
   "cell_type": "code",
   "execution_count": 83,
   "metadata": {},
   "outputs": [
    {
     "data": {
      "image/png": "[encoded data removed]",
      "text/plain": [
       "<matplotlib.figure.Figure at 0x12257a28c18>"
      ]
     },
     "metadata": {},
     "output_type": "display_data"
    }
   ],
   "source": [
    "plt.imshow(clf.labels[-1].reshape(n,m))\n",
    "plt.grid(False)"
   ]
  },
  {
   "cell_type": "code",
   "execution_count": 84,
   "metadata": {},
   "outputs": [
    {
     "data": {
      "image/png": "[encoded data removed]",
      "text/plain": [
       "<matplotlib.figure.Figure at 0x1225768e940>"
      ]
     },
     "metadata": {},
     "output_type": "display_data"
    }
   ],
   "source": [
    "clf.diagnostics_plot()"
   ]
  },
  {
   "cell_type": "code",
   "execution_count": 30,
   "metadata": {},
   "outputs": [],
   "source": [
    "from bayseg import pseudocolor"
   ]
  },
  {
   "cell_type": "code",
   "execution_count": 28,
   "metadata": {},
   "outputs": [
    {
     "data": {
      "text/plain": [
       "array([[0, 1, 2],\n",
       "       [3, 4, 5],\n",
       "       [6, 7, 8]])"
      ]
     },
     "execution_count": 28,
     "metadata": {},
     "output_type": "execute_result"
    }
   ],
   "source": [
    "np.arange(9).reshape(3,3)"
   ]
  },
  {
   "cell_type": "code",
   "execution_count": 52,
   "metadata": {
    "scrolled": true
   },
   "outputs": [
    {
     "data": {
      "text/plain": [
       "array([[ 0,  2,  8, 10],\n",
       "       [ 1,  3,  9, 11],\n",
       "       [ 4,  6, 12, 14],\n",
       "       [ 5,  7, 13, 15]], dtype=int64)"
      ]
     },
     "execution_count": 52,
     "metadata": {},
     "output_type": "execute_result"
    }
   ],
   "source": [
    "np.array(pseudocolor(coords, (4,4)))"
   ]
  },
  {
   "cell_type": "code",
   "execution_count": 66,
   "metadata": {},
   "outputs": [
    {
     "data": {
      "text/plain": [
       "array([[ 1.,  1.,  2.,  1.],\n",
       "       [ 1.,  1.,  2.,  1.],\n",
       "       [ 0.,  0.,  2.,  0.],\n",
       "       [ 0.,  0.,  2.,  0.]])"
      ]
     },
     "execution_count": 66,
     "metadata": {},
     "output_type": "execute_result"
    }
   ],
   "source": [
    "labels = np.zeros((4,4))\n",
    "labels[0,:] = 1\n",
    "labels[1,:] = 1\n",
    "labels[:,2] = 2\n",
    "labels"
   ]
  },
  {
   "cell_type": "code",
   "execution_count": 72,
   "metadata": {},
   "outputs": [],
   "source": [
    "# beta = 1.\n",
    "# 4-stamp\n",
    "sol = np.array([[[ 2.,  3.,  3.,  2.],\n",
    "        [ 2.,  3.,  4.,  2.], # 0\n",
    "        [ 1.,  2.,  2.,  2.],\n",
    "        [ 0.,  1.,  1.,  1.]],\n",
    "\n",
    "       [[ 0.,  1.,  1.,  1.],\n",
    "        [ 1.,  2.,  2.,  2.], # 1\n",
    "        [ 2.,  3.,  4.,  2.],\n",
    "        [ 2.,  3.,  3.,  2.]],\n",
    "\n",
    "       [[ 2.,  2.,  2.,  1.],\n",
    "        [ 3.,  3.,  2.,  2.], # 2\n",
    "        [ 3.,  3.,  2.,  2.],\n",
    "        [ 2.,  2.,  2.,  1.]]])"
   ]
  },
  {
   "cell_type": "code",
   "execution_count": 74,
   "metadata": {},
   "outputs": [
    {
     "data": {
      "text/plain": [
       "array([[ 2.,  3.,  3.],\n",
       "       [ 2.,  2.,  3.],\n",
       "       [ 4.,  2.,  1.],\n",
       "       [ 2.,  2.,  2.],\n",
       "       [ 0.,  1.,  1.],\n",
       "       [ 1.,  0.,  1.],\n",
       "       [ 1.,  1.,  1.],\n",
       "       [ 2.,  2.,  2.],\n",
       "       [ 2.,  3.,  4.],\n",
       "       [ 2.,  2.,  3.],\n",
       "       [ 3.,  2.,  2.],\n",
       "       [ 2.,  2.,  1.],\n",
       "       [ 3.,  3.,  2.],\n",
       "       [ 2.,  3.,  3.],\n",
       "       [ 2.,  2.,  2.],\n",
       "       [ 2.,  2.,  1.]])"
      ]
     },
     "execution_count": 74,
     "metadata": {},
     "output_type": "execute_result"
    }
   ],
   "source": [
    "sol.reshape(16,3)"
   ]
  },
  {
   "cell_type": "code",
   "execution_count": 68,
   "metadata": {},
   "outputs": [
    {
     "data": {
      "text/plain": [
       "array([[[ 0.,  0.,  0.,  0.],\n",
       "        [ 0.,  0.,  0.,  0.],\n",
       "        [ 0.,  0.,  0.,  0.],\n",
       "        [ 0.,  0.,  0.,  0.]],\n",
       "\n",
       "       [[ 0.,  0.,  0.,  0.],\n",
       "        [ 0.,  0.,  0.,  0.],\n",
       "        [ 0.,  0.,  0.,  0.],\n",
       "        [ 0.,  0.,  0.,  0.]],\n",
       "\n",
       "       [[ 0.,  0.,  0.,  0.],\n",
       "        [ 0.,  0.,  0.,  0.],\n",
       "        [ 0.,  0.,  0.,  0.],\n",
       "        [ 0.,  0.,  0.,  0.]]])"
      ]
     },
     "execution_count": 68,
     "metadata": {},
     "output_type": "execute_result"
    }
   ],
   "source": [
    "np.zeros((3,4,4))"
   ]
  },
  {
   "cell_type": "code",
   "execution_count": null,
   "metadata": {
    "collapsed": true
   },
   "outputs": [],
   "source": []
  },
  {
   "cell_type": "code",
   "execution_count": null,
   "metadata": {
    "collapsed": true
   },
   "outputs": [],
   "source": []
  },
  {
   "cell_type": "code",
   "execution_count": 51,
   "metadata": {},
   "outputs": [],
   "source": [
    "coords= np.indices((4,4)).reshape(16,2)"
   ]
  },
  {
   "cell_type": "code",
   "execution_count": 49,
   "metadata": {},
   "outputs": [
    {
     "data": {
      "text/plain": [
       "array([[0, 0],\n",
       "       [0, 0],\n",
       "       [1, 1],\n",
       "       [1, 1],\n",
       "       [2, 2],\n",
       "       [2, 2],\n",
       "       [3, 3],\n",
       "       [3, 3],\n",
       "       [0, 1],\n",
       "       [2, 3],\n",
       "       [0, 1],\n",
       "       [2, 3],\n",
       "       [0, 1],\n",
       "       [2, 3],\n",
       "       [0, 1],\n",
       "       [2, 3]])"
      ]
     },
     "execution_count": 49,
     "metadata": {},
     "output_type": "execute_result"
    }
   ],
   "source": [
    "coords"
   ]
  },
  {
   "cell_type": "code",
   "execution_count": 20,
   "metadata": {},
   "outputs": [
    {
     "data": {
      "text/plain": [
       "array([[ 0,  0],\n",
       "       [ 0,  1],\n",
       "       [ 0,  2],\n",
       "       ..., \n",
       "       [39, 27],\n",
       "       [39, 28],\n",
       "       [39, 29]])"
      ]
     },
     "execution_count": 20,
     "metadata": {},
     "output_type": "execute_result"
    }
   ],
   "source": [
    "clf.coords"
   ]
  },
  {
   "cell_type": "code",
   "execution_count": null,
   "metadata": {
    "collapsed": true
   },
   "outputs": [],
   "source": []
  },
  {
   "cell_type": "code",
   "execution_count": 19,
   "metadata": {},
   "outputs": [
    {
     "data": {
      "text/plain": [
       "array([[0, 1],\n",
       "       [2, 3],\n",
       "       [4, 5],\n",
       "       [6, 7],\n",
       "       [8, 9]])"
      ]
     },
     "execution_count": 19,
     "metadata": {},
     "output_type": "execute_result"
    }
   ],
   "source": [
    "np.array([[0, 2, 4, 6, 8],\n",
    "                    [1, 3, 5, 7, 9]]).T"
   ]
  },
  {
   "cell_type": "code",
   "execution_count": 241,
   "metadata": {},
   "outputs": [
    {
     "data": {
      "text/plain": [
       "array([0, 1, 2, 3, 4, 5, 6, 7, 8, 9])"
      ]
     },
     "execution_count": 241,
     "metadata": {},
     "output_type": "execute_result"
    }
   ],
   "source": [
    "x = np.arange(10)\n",
    "x"
   ]
  },
  {
   "cell_type": "code",
   "execution_count": null,
   "metadata": {
    "collapsed": true
   },
   "outputs": [],
   "source": []
  },
  {
   "cell_type": "code",
   "execution_count": 237,
   "metadata": {},
   "outputs": [
    {
     "data": {
      "text/plain": [
       "array([[ 0,  0],\n",
       "       [ 0,  1],\n",
       "       [ 0,  2],\n",
       "       ..., \n",
       "       [39, 27],\n",
       "       [39, 28],\n",
       "       [39, 29]])"
      ]
     },
     "execution_count": 237,
     "metadata": {},
     "output_type": "execute_result"
    }
   ],
   "source": [
    "clf.coords"
   ]
  },
  {
   "cell_type": "code",
   "execution_count": 234,
   "metadata": {},
   "outputs": [
    {
     "data": {
      "text/plain": [
       "[array([   0,    2,    4,    6,    8,   10,   12,   14,   16,   18,   20,\n",
       "          22,   24,   26,   28,   60,   62,   64,   66,   68,   70,   72,\n",
       "          74,   76,   78,   80,   82,   84,   86,   88,  120,  122,  124,\n",
       "         126,  128,  130,  132,  134,  136,  138,  140,  142,  144,  146,\n",
       "         148,  180,  182,  184,  186,  188,  190,  192,  194,  196,  198,\n",
       "         200,  202,  204,  206,  208,  240,  242,  244,  246,  248,  250,\n",
       "         252,  254,  256,  258,  260,  262,  264,  266,  268,  300,  302,\n",
       "         304,  306,  308,  310,  312,  314,  316,  318,  320,  322,  324,\n",
       "         326,  328,  360,  362,  364,  366,  368,  370,  372,  374,  376,\n",
       "         378,  380,  382,  384,  386,  388,  420,  422,  424,  426,  428,\n",
       "         430,  432,  434,  436,  438,  440,  442,  444,  446,  448,  480,\n",
       "         482,  484,  486,  488,  490,  492,  494,  496,  498,  500,  502,\n",
       "         504,  506,  508,  540,  542,  544,  546,  548,  550,  552,  554,\n",
       "         556,  558,  560,  562,  564,  566,  568,  600,  602,  604,  606,\n",
       "         608,  610,  612,  614,  616,  618,  620,  622,  624,  626,  628,\n",
       "         660,  662,  664,  666,  668,  670,  672,  674,  676,  678,  680,\n",
       "         682,  684,  686,  688,  720,  722,  724,  726,  728,  730,  732,\n",
       "         734,  736,  738,  740,  742,  744,  746,  748,  780,  782,  784,\n",
       "         786,  788,  790,  792,  794,  796,  798,  800,  802,  804,  806,\n",
       "         808,  840,  842,  844,  846,  848,  850,  852,  854,  856,  858,\n",
       "         860,  862,  864,  866,  868,  900,  902,  904,  906,  908,  910,\n",
       "         912,  914,  916,  918,  920,  922,  924,  926,  928,  960,  962,\n",
       "         964,  966,  968,  970,  972,  974,  976,  978,  980,  982,  984,\n",
       "         986,  988, 1020, 1022, 1024, 1026, 1028, 1030, 1032, 1034, 1036,\n",
       "        1038, 1040, 1042, 1044, 1046, 1048, 1080, 1082, 1084, 1086, 1088,\n",
       "        1090, 1092, 1094, 1096, 1098, 1100, 1102, 1104, 1106, 1108, 1140,\n",
       "        1142, 1144, 1146, 1148, 1150, 1152, 1154, 1156, 1158, 1160, 1162,\n",
       "        1164, 1166, 1168], dtype=int64),\n",
       " array([   1,    3,    5,    7,    9,   11,   13,   15,   17,   19,   21,\n",
       "          23,   25,   27,   29,   61,   63,   65,   67,   69,   71,   73,\n",
       "          75,   77,   79,   81,   83,   85,   87,   89,  121,  123,  125,\n",
       "         127,  129,  131,  133,  135,  137,  139,  141,  143,  145,  147,\n",
       "         149,  181,  183,  185,  187,  189,  191,  193,  195,  197,  199,\n",
       "         201,  203,  205,  207,  209,  241,  243,  245,  247,  249,  251,\n",
       "         253,  255,  257,  259,  261,  263,  265,  267,  269,  301,  303,\n",
       "         305,  307,  309,  311,  313,  315,  317,  319,  321,  323,  325,\n",
       "         327,  329,  361,  363,  365,  367,  369,  371,  373,  375,  377,\n",
       "         379,  381,  383,  385,  387,  389,  421,  423,  425,  427,  429,\n",
       "         431,  433,  435,  437,  439,  441,  443,  445,  447,  449,  481,\n",
       "         483,  485,  487,  489,  491,  493,  495,  497,  499,  501,  503,\n",
       "         505,  507,  509,  541,  543,  545,  547,  549,  551,  553,  555,\n",
       "         557,  559,  561,  563,  565,  567,  569,  601,  603,  605,  607,\n",
       "         609,  611,  613,  615,  617,  619,  621,  623,  625,  627,  629,\n",
       "         661,  663,  665,  667,  669,  671,  673,  675,  677,  679,  681,\n",
       "         683,  685,  687,  689,  721,  723,  725,  727,  729,  731,  733,\n",
       "         735,  737,  739,  741,  743,  745,  747,  749,  781,  783,  785,\n",
       "         787,  789,  791,  793,  795,  797,  799,  801,  803,  805,  807,\n",
       "         809,  841,  843,  845,  847,  849,  851,  853,  855,  857,  859,\n",
       "         861,  863,  865,  867,  869,  901,  903,  905,  907,  909,  911,\n",
       "         913,  915,  917,  919,  921,  923,  925,  927,  929,  961,  963,\n",
       "         965,  967,  969,  971,  973,  975,  977,  979,  981,  983,  985,\n",
       "         987,  989, 1021, 1023, 1025, 1027, 1029, 1031, 1033, 1035, 1037,\n",
       "        1039, 1041, 1043, 1045, 1047, 1049, 1081, 1083, 1085, 1087, 1089,\n",
       "        1091, 1093, 1095, 1097, 1099, 1101, 1103, 1105, 1107, 1109, 1141,\n",
       "        1143, 1145, 1147, 1149, 1151, 1153, 1155, 1157, 1159, 1161, 1163,\n",
       "        1165, 1167, 1169], dtype=int64),\n",
       " array([  30,   32,   34,   36,   38,   40,   42,   44,   46,   48,   50,\n",
       "          52,   54,   56,   58,   90,   92,   94,   96,   98,  100,  102,\n",
       "         104,  106,  108,  110,  112,  114,  116,  118,  150,  152,  154,\n",
       "         156,  158,  160,  162,  164,  166,  168,  170,  172,  174,  176,\n",
       "         178,  210,  212,  214,  216,  218,  220,  222,  224,  226,  228,\n",
       "         230,  232,  234,  236,  238,  270,  272,  274,  276,  278,  280,\n",
       "         282,  284,  286,  288,  290,  292,  294,  296,  298,  330,  332,\n",
       "         334,  336,  338,  340,  342,  344,  346,  348,  350,  352,  354,\n",
       "         356,  358,  390,  392,  394,  396,  398,  400,  402,  404,  406,\n",
       "         408,  410,  412,  414,  416,  418,  450,  452,  454,  456,  458,\n",
       "         460,  462,  464,  466,  468,  470,  472,  474,  476,  478,  510,\n",
       "         512,  514,  516,  518,  520,  522,  524,  526,  528,  530,  532,\n",
       "         534,  536,  538,  570,  572,  574,  576,  578,  580,  582,  584,\n",
       "         586,  588,  590,  592,  594,  596,  598,  630,  632,  634,  636,\n",
       "         638,  640,  642,  644,  646,  648,  650,  652,  654,  656,  658,\n",
       "         690,  692,  694,  696,  698,  700,  702,  704,  706,  708,  710,\n",
       "         712,  714,  716,  718,  750,  752,  754,  756,  758,  760,  762,\n",
       "         764,  766,  768,  770,  772,  774,  776,  778,  810,  812,  814,\n",
       "         816,  818,  820,  822,  824,  826,  828,  830,  832,  834,  836,\n",
       "         838,  870,  872,  874,  876,  878,  880,  882,  884,  886,  888,\n",
       "         890,  892,  894,  896,  898,  930,  932,  934,  936,  938,  940,\n",
       "         942,  944,  946,  948,  950,  952,  954,  956,  958,  990,  992,\n",
       "         994,  996,  998, 1000, 1002, 1004, 1006, 1008, 1010, 1012, 1014,\n",
       "        1016, 1018, 1050, 1052, 1054, 1056, 1058, 1060, 1062, 1064, 1066,\n",
       "        1068, 1070, 1072, 1074, 1076, 1078, 1110, 1112, 1114, 1116, 1118,\n",
       "        1120, 1122, 1124, 1126, 1128, 1130, 1132, 1134, 1136, 1138, 1170,\n",
       "        1172, 1174, 1176, 1178, 1180, 1182, 1184, 1186, 1188, 1190, 1192,\n",
       "        1194, 1196, 1198], dtype=int64),\n",
       " array([  31,   33,   35,   37,   39,   41,   43,   45,   47,   49,   51,\n",
       "          53,   55,   57,   59,   91,   93,   95,   97,   99,  101,  103,\n",
       "         105,  107,  109,  111,  113,  115,  117,  119,  151,  153,  155,\n",
       "         157,  159,  161,  163,  165,  167,  169,  171,  173,  175,  177,\n",
       "         179,  211,  213,  215,  217,  219,  221,  223,  225,  227,  229,\n",
       "         231,  233,  235,  237,  239,  271,  273,  275,  277,  279,  281,\n",
       "         283,  285,  287,  289,  291,  293,  295,  297,  299,  331,  333,\n",
       "         335,  337,  339,  341,  343,  345,  347,  349,  351,  353,  355,\n",
       "         357,  359,  391,  393,  395,  397,  399,  401,  403,  405,  407,\n",
       "         409,  411,  413,  415,  417,  419,  451,  453,  455,  457,  459,\n",
       "         461,  463,  465,  467,  469,  471,  473,  475,  477,  479,  511,\n",
       "         513,  515,  517,  519,  521,  523,  525,  527,  529,  531,  533,\n",
       "         535,  537,  539,  571,  573,  575,  577,  579,  581,  583,  585,\n",
       "         587,  589,  591,  593,  595,  597,  599,  631,  633,  635,  637,\n",
       "         639,  641,  643,  645,  647,  649,  651,  653,  655,  657,  659,\n",
       "         691,  693,  695,  697,  699,  701,  703,  705,  707,  709,  711,\n",
       "         713,  715,  717,  719,  751,  753,  755,  757,  759,  761,  763,\n",
       "         765,  767,  769,  771,  773,  775,  777,  779,  811,  813,  815,\n",
       "         817,  819,  821,  823,  825,  827,  829,  831,  833,  835,  837,\n",
       "         839,  871,  873,  875,  877,  879,  881,  883,  885,  887,  889,\n",
       "         891,  893,  895,  897,  899,  931,  933,  935,  937,  939,  941,\n",
       "         943,  945,  947,  949,  951,  953,  955,  957,  959,  991,  993,\n",
       "         995,  997,  999, 1001, 1003, 1005, 1007, 1009, 1011, 1013, 1015,\n",
       "        1017, 1019, 1051, 1053, 1055, 1057, 1059, 1061, 1063, 1065, 1067,\n",
       "        1069, 1071, 1073, 1075, 1077, 1079, 1111, 1113, 1115, 1117, 1119,\n",
       "        1121, 1123, 1125, 1127, 1129, 1131, 1133, 1135, 1137, 1139, 1171,\n",
       "        1173, 1175, 1177, 1179, 1181, 1183, 1185, 1187, 1189, 1191, 1193,\n",
       "        1195, 1197, 1199], dtype=int64)]"
      ]
     },
     "execution_count": 234,
     "metadata": {},
     "output_type": "execute_result"
    }
   ],
   "source": [
    "clf.colors"
   ]
  },
  {
   "cell_type": "code",
   "execution_count": 191,
   "metadata": {},
   "outputs": [
    {
     "data": {
      "image/png": "[encoded data removed]",
      "text/plain": [
       "<matplotlib.figure.Figure at 0x29404638048>"
      ]
     },
     "metadata": {},
     "output_type": "display_data"
    }
   ],
   "source": [
    "plt.imshow(clf.labels[-1].reshape(n,m))\n",
    "plt.grid(False)"
   ]
  },
  {
   "cell_type": "code",
   "execution_count": 202,
   "metadata": {},
   "outputs": [
    {
     "data": {
      "text/plain": [
       "[array([   0,    2,    4, ..., 9894, 9896, 9898], dtype=int64),\n",
       " array([   1,    3,    5, ..., 9895, 9897, 9899], dtype=int64),\n",
       " array([ 100,  102,  104, ..., 9994, 9996, 9998], dtype=int64),\n",
       " array([ 101,  103,  105, ..., 9995, 9997, 9999], dtype=int64)]"
      ]
     },
     "execution_count": 202,
     "metadata": {},
     "output_type": "execute_result"
    }
   ],
   "source": [
    "clf.colors"
   ]
  },
  {
   "cell_type": "code",
   "execution_count": null,
   "metadata": {
    "collapsed": true
   },
   "outputs": [],
   "source": []
  },
  {
   "cell_type": "code",
   "execution_count": 192,
   "metadata": {},
   "outputs": [
    {
     "name": "stderr",
     "output_type": "stream",
     "text": [
      "  0%|                                                                                       | 0/100 [00:00<?, ?it/s]..\\bayseg\\bayseg.py:330: RuntimeWarning: overflow encountered in exp\n",
      "  acc_ratio = np.exp(log_target_prop - log_target_prev)\n",
      "100%|█████████████████████████████████████████████████████████████████████████████| 100/100 [02:20<00:00,  1.40s/it]\n"
     ]
    }
   ],
   "source": [
    "clf.fit(100)"
   ]
  },
  {
   "cell_type": "code",
   "execution_count": 198,
   "metadata": {},
   "outputs": [
    {
     "data": {
      "text/plain": [
       "<matplotlib.image.AxesImage at 0x294045872e8>"
      ]
     },
     "execution_count": 198,
     "metadata": {},
     "output_type": "execute_result"
    },
    {
     "data": {
      "image/png": "[encoded data removed]",
      "text/plain": [
       "<matplotlib.figure.Figure at 0x29404ad50b8>"
      ]
     },
     "metadata": {},
     "output_type": "display_data"
    }
   ],
   "source": [
    "plt.imshow(clf.labels[51].reshape(100,100)-clf.labels[53].reshape(100,100))"
   ]
  },
  {
   "cell_type": "code",
   "execution_count": 200,
   "metadata": {},
   "outputs": [
    {
     "data": {
      "image/png": "[encoded data removed]",
      "text/plain": [
       "<matplotlib.figure.Figure at 0x29404470828>"
      ]
     },
     "metadata": {},
     "output_type": "display_data"
    }
   ],
   "source": [
    "clf.diagnostics_plot()"
   ]
  },
  {
   "cell_type": "code",
   "execution_count": 14,
   "metadata": {},
   "outputs": [
    {
     "name": "stdout",
     "output_type": "stream",
     "text": [
      "> c:\\users\\alexander\\documents\\git\\bayseg\\bayseg\\bayseg.py(335)gibbs_sample()\n",
      "    333             print(\"BETA acceptance ratio:\", acc_ratio)\n",
      "    334 \n",
      "--> 335         if (acc_ratio > 1) or (np.random.uniform() < acc_ratio):\n",
      "    336             self.betas.append(beta_prop)\n",
      "    337         else:\n",
      "\n",
      "ipdb> acc_ratio\n",
      "array([[  8.28994330e+16,              nan,              nan,\n",
      "                     nan],\n",
      "       [             nan,   8.28994330e+16,              nan,\n",
      "                     nan],\n",
      "       [             nan,              nan,   8.28994330e+16,\n",
      "                     nan],\n",
      "       [             nan,              nan,              nan,\n",
      "          8.28994330e+16]])\n",
      "ipdb> exit\n"
     ]
    }
   ],
   "source": [
    "debug"
   ]
  },
  {
   "cell_type": "markdown",
   "metadata": {},
   "source": [
    "### Pseudocoloring in 2D with 4-stamp"
   ]
  },
  {
   "cell_type": "code",
   "execution_count": 12,
   "metadata": {
    "collapsed": true
   },
   "outputs": [],
   "source": [
    "e = 10"
   ]
  },
  {
   "cell_type": "code",
   "execution_count": 13,
   "metadata": {},
   "outputs": [
    {
     "data": {
      "image/png": "[encoded data removed]",
      "text/plain": [
       "<matplotlib.figure.Figure at 0x2264c804f98>"
      ]
     },
     "metadata": {},
     "output_type": "display_data"
    }
   ],
   "source": [
    "plt.imshow(np.tile(np.kron([[0, 1], [1, 0]] * int(e/2), np.ones((1, 1))), int(e/2)), cmap=bayseg.cmap, norm=bayseg.cmap_norm)\n",
    "plt.grid(False)"
   ]
  },
  {
   "cell_type": "markdown",
   "metadata": {},
   "source": [
    "### Pseudocoloring in 2D with 8-stamp"
   ]
  },
  {
   "cell_type": "code",
   "execution_count": 14,
   "metadata": {},
   "outputs": [
    {
     "data": {
      "image/png": "[encoded data removed]",
      "text/plain": [
       "<matplotlib.figure.Figure at 0x2264ce2e2b0>"
      ]
     },
     "metadata": {},
     "output_type": "display_data"
    }
   ],
   "source": [
    "plt.imshow(np.tile(np.kron([[0, 1], [2, 3]] * int(e/2), np.ones((1, 1))), int(e/2)), cmap=bayseg.cmap, norm=bayseg.cmap_norm)\n",
    "plt.grid(False)"
   ]
  },
  {
   "cell_type": "code",
   "execution_count": 18,
   "metadata": {
    "scrolled": false
   },
   "outputs": [
    {
     "data": {
      "text/plain": [
       "(4, 25, 2)"
      ]
     },
     "execution_count": 18,
     "metadata": {},
     "output_type": "execute_result"
    }
   ],
   "source": [
    "np.shape(clf.colors)"
   ]
  },
  {
   "cell_type": "markdown",
   "metadata": {},
   "source": [
    "### Gibbs energy calculation in 2D"
   ]
  },
  {
   "cell_type": "code",
   "execution_count": 17,
   "metadata": {},
   "outputs": [
    {
     "data": {
      "text/plain": [
       "array([1, 1, 1, 1, 0, 1, 1, 1, 1, 1, 1, 1, 1, 1, 0, 1, 1, 1, 1, 1, 2, 2, 2,\n",
       "       2, 0, 0, 0, 0, 0, 2, 2, 2, 2, 2, 0, 0, 0, 0, 0, 2, 2, 2, 2, 2, 0, 0,\n",
       "       0, 0, 0, 2, 2, 2, 0, 0, 0, 0, 0, 0, 0, 2, 2, 1, 1, 1, 1, 1, 2, 2, 2,\n",
       "       2, 2, 2, 1, 1, 2, 1, 2, 1, 2, 2, 1, 0, 2, 2, 2, 2, 2, 2, 2, 2, 0, 2,\n",
       "       2, 1, 2, 2, 2, 0, 2, 1], dtype=int64)"
      ]
     },
     "execution_count": 17,
     "metadata": {},
     "output_type": "execute_result"
    }
   ],
   "source": [
    "labels = clf.labels[-1]\n",
    "labels"
   ]
  },
  {
   "cell_type": "code",
   "execution_count": 24,
   "metadata": {},
   "outputs": [
    {
     "data": {
      "text/plain": [
       "array([[1, 1, 1, 1, 0, 1, 1, 1, 1, 1],\n",
       "       [1, 1, 1, 1, 0, 1, 1, 1, 1, 1],\n",
       "       [2, 2, 2, 2, 0, 0, 0, 0, 0, 2],\n",
       "       [2, 2, 2, 2, 0, 0, 0, 0, 0, 2],\n",
       "       [2, 2, 2, 2, 0, 0, 0, 0, 0, 2],\n",
       "       [2, 2, 0, 0, 0, 0, 0, 0, 0, 2],\n",
       "       [2, 1, 1, 1, 1, 1, 2, 2, 2, 2],\n",
       "       [2, 2, 1, 1, 2, 1, 2, 1, 2, 2],\n",
       "       [1, 0, 2, 2, 2, 2, 2, 2, 2, 2],\n",
       "       [0, 2, 2, 1, 2, 2, 2, 0, 2, 1]], dtype=int64)"
      ]
     },
     "execution_count": 24,
     "metadata": {},
     "output_type": "execute_result"
    }
   ],
   "source": [
    "labels_rshp = labels.reshape(clf.shape[:-1])\n",
    "labels_rshp"
   ]
  },
  {
   "cell_type": "code",
   "execution_count": 27,
   "metadata": {},
   "outputs": [
    {
     "data": {
      "text/plain": [
       "array([ 0,  1,  2,  3,  4,  5,  6,  7,  8,  9, 10, 11, 12, 13, 14, 15, 16,\n",
       "       17, 18, 19, 20, 21, 22, 23, 24, 25, 26, 27, 28, 29, 30, 31, 32, 33,\n",
       "       34, 35, 36, 37, 38, 39, 40, 41, 42, 43, 44, 45, 46, 47, 48, 49, 50,\n",
       "       51, 52, 53, 54, 55, 56, 57, 58, 59, 60, 61, 62, 63, 64, 65, 66, 67,\n",
       "       68, 69, 70, 71, 72, 73, 74, 75, 76, 77, 78, 79, 80, 81, 82, 83, 84,\n",
       "       85, 86, 87, 88, 89, 90, 91, 92, 93, 94, 95, 96, 97, 98, 99])"
      ]
     },
     "execution_count": 27,
     "metadata": {},
     "output_type": "execute_result"
    }
   ],
   "source": [
    "np.arange(100)"
   ]
  },
  {
   "cell_type": "code",
   "execution_count": 41,
   "metadata": {},
   "outputs": [
    {
     "data": {
      "text/plain": [
       "(array([0, 0, 0, 0, 0, 0, 0, 0, 0, 0, 1, 1, 1, 1, 1, 1, 1, 1, 1, 1, 2, 2, 2,\n",
       "        2, 2, 2, 2, 2, 2, 2, 3, 3, 3, 3, 3, 3, 3, 3, 3, 3, 4, 4, 4, 4, 4, 4,\n",
       "        4, 4, 4, 4, 5, 5, 5, 5, 5, 5, 5, 5, 5, 5, 6, 6, 6, 6, 6, 6, 6, 6, 6,\n",
       "        6, 7, 7, 7, 7, 7, 7, 7, 7, 7, 7, 8, 8, 8, 8, 8, 8, 8, 8, 8, 8, 9, 9,\n",
       "        9, 9, 9, 9, 9, 9, 9, 9], dtype=int64),\n",
       " array([0, 1, 2, 3, 4, 5, 6, 7, 8, 9, 0, 1, 2, 3, 4, 5, 6, 7, 8, 9, 0, 1, 2,\n",
       "        3, 4, 5, 6, 7, 8, 9, 0, 1, 2, 3, 4, 5, 6, 7, 8, 9, 0, 1, 2, 3, 4, 5,\n",
       "        6, 7, 8, 9, 0, 1, 2, 3, 4, 5, 6, 7, 8, 9, 0, 1, 2, 3, 4, 5, 6, 7, 8,\n",
       "        9, 0, 1, 2, 3, 4, 5, 6, 7, 8, 9, 0, 1, 2, 3, 4, 5, 6, 7, 8, 9, 0, 1,\n",
       "        2, 3, 4, 5, 6, 7, 8, 9], dtype=int64))"
      ]
     },
     "execution_count": 41,
     "metadata": {},
     "output_type": "execute_result"
    }
   ],
   "source": [
    "ui = np.unravel_index(np.arange(100), (10,10))\n",
    "ui"
   ]
  },
  {
   "cell_type": "code",
   "execution_count": 42,
   "metadata": {},
   "outputs": [
    {
     "data": {
      "text/plain": [
       "array([ 0,  1,  2,  3,  4,  5,  6,  7,  8,  9, 10, 11, 12, 13, 14, 15, 16,\n",
       "       17, 18, 19, 20, 21, 22, 23, 24, 25, 26, 27, 28, 29, 30, 31, 32, 33,\n",
       "       34, 35, 36, 37, 38, 39, 40, 41, 42, 43, 44, 45, 46, 47, 48, 49, 50,\n",
       "       51, 52, 53, 54, 55, 56, 57, 58, 59, 60, 61, 62, 63, 64, 65, 66, 67,\n",
       "       68, 69, 70, 71, 72, 73, 74, 75, 76, 77, 78, 79, 80, 81, 82, 83, 84,\n",
       "       85, 86, 87, 88, 89, 90, 91, 92, 93, 94, 95, 96, 97, 98, 99], dtype=int64)"
      ]
     },
     "execution_count": 42,
     "metadata": {},
     "output_type": "execute_result"
    }
   ],
   "source": [
    "np.ravel_multi_index(ui, (10,10))"
   ]
  },
  {
   "cell_type": "code",
   "execution_count": 26,
   "metadata": {},
   "outputs": [
    {
     "data": {
      "text/plain": [
       "array([[ 0,  1,  2,  3,  4,  5,  6,  7,  8,  9],\n",
       "       [10, 11, 12, 13, 14, 15, 16, 17, 18, 19],\n",
       "       [20, 21, 22, 23, 24, 25, 26, 27, 28, 29],\n",
       "       [30, 31, 32, 33, 34, 35, 36, 37, 38, 39],\n",
       "       [40, 41, 42, 43, 44, 45, 46, 47, 48, 49],\n",
       "       [50, 51, 52, 53, 54, 55, 56, 57, 58, 59],\n",
       "       [60, 61, 62, 63, 64, 65, 66, 67, 68, 69],\n",
       "       [70, 71, 72, 73, 74, 75, 76, 77, 78, 79],\n",
       "       [80, 81, 82, 83, 84, 85, 86, 87, 88, 89],\n",
       "       [90, 91, 92, 93, 94, 95, 96, 97, 98, 99]])"
      ]
     },
     "execution_count": 26,
     "metadata": {},
     "output_type": "execute_result"
    }
   ],
   "source": [
    "np.arange(100).reshape(10,10)"
   ]
  },
  {
   "cell_type": "code",
   "execution_count": null,
   "metadata": {
    "collapsed": true
   },
   "outputs": [],
   "source": []
  },
  {
   "cell_type": "code",
   "execution_count": 167,
   "metadata": {},
   "outputs": [
    {
     "data": {
      "text/plain": [
       "array([1, 1, 1, 1, 0, 1, 1, 1, 1, 1, 1, 1, 1, 1, 0, 1, 1, 1, 1, 1, 2, 2, 2,\n",
       "       2, 0, 0, 0, 0, 0, 2, 2, 2, 2, 2, 0, 0, 0, 0, 0, 2, 2, 2, 2, 2, 0, 0,\n",
       "       0, 0, 0, 2, 2, 2, 0, 0, 0, 0, 0, 0, 0, 2, 2, 1, 1, 1, 1, 1, 2, 2, 2,\n",
       "       2, 2, 2, 1, 1, 2, 1, 2, 1, 2, 2, 1, 0, 2, 2, 2, 2, 2, 2, 2, 2, 0, 2,\n",
       "       2, 1, 2, 2, 2, 0, 2, 1], dtype=int64)"
      ]
     },
     "execution_count": 167,
     "metadata": {},
     "output_type": "execute_result"
    }
   ],
   "source": [
    "labels"
   ]
  },
  {
   "cell_type": "markdown",
   "metadata": {},
   "source": [
    "### Flattened Stamps"
   ]
  },
  {
   "cell_type": "code",
   "execution_count": 132,
   "metadata": {
    "collapsed": true
   },
   "outputs": [],
   "source": [
    "e_x = clf.shape[0]\n",
    "e_y = clf.shape[1]\n",
    "# right\n",
    "r = 1\n",
    "# left\n",
    "l = -1\n",
    "# up\n",
    "u = -e_x\n",
    "ur = -e_x + 1\n",
    "ul = -e_x - 1\n",
    "# down\n",
    "d = +e_x\n",
    "dr = +e_x + 1\n",
    "dl = +e_x -1"
   ]
  },
  {
   "cell_type": "code",
   "execution_count": 201,
   "metadata": {
    "collapsed": true
   },
   "outputs": [],
   "source": [
    "# comparison array\n",
    "comparer = np.tile(np.arange(clf.n_labels), (clf.shape[0] * clf.shape[1],1))"
   ]
  },
  {
   "cell_type": "code",
   "execution_count": 207,
   "metadata": {},
   "outputs": [
    {
     "data": {
      "text/plain": [
       "array([0, 0, 0, 0, 0, 0, 0, 0, 0, 0, 0, 0, 0, 0, 0, 0, 0, 0, 0, 0, 0, 0, 0,\n",
       "       0, 0, 0, 0, 0, 0, 0, 0, 0, 0, 0, 0, 0, 0, 0, 0, 0, 0, 0, 0, 0, 0, 0,\n",
       "       0, 0, 0, 0, 0, 0, 0, 0, 0, 0, 0, 0, 0, 0, 0, 0, 0, 0, 0, 0, 0, 0, 0,\n",
       "       0, 0, 0, 0, 0, 0, 0, 0, 0, 0, 0, 0, 0, 0, 0, 0, 0, 0, 0, 0, 0, 0, 0,\n",
       "       0, 0, 0, 0, 0, 0, 0, 0])"
      ]
     },
     "execution_count": 207,
     "metadata": {},
     "output_type": "execute_result"
    }
   ],
   "source": [
    "comparer[:,0]"
   ]
  },
  {
   "cell_type": "code",
   "execution_count": 224,
   "metadata": {},
   "outputs": [
    {
     "data": {
      "text/plain": [
       "89"
      ]
     },
     "execution_count": 224,
     "metadata": {},
     "output_type": "execute_result"
    }
   ],
   "source": [
    "len(np.not_equal(comparer[:ul, 0], labels[-ul:]))"
   ]
  },
  {
   "cell_type": "code",
   "execution_count": 228,
   "metadata": {},
   "outputs": [
    {
     "data": {
      "text/plain": [
       "89"
      ]
     },
     "execution_count": 228,
     "metadata": {},
     "output_type": "execute_result"
    }
   ],
   "source": [
    "len(comparer[:ul, 0])"
   ]
  },
  {
   "cell_type": "code",
   "execution_count": 232,
   "metadata": {},
   "outputs": [
    {
     "data": {
      "text/plain": [
       "89"
      ]
     },
     "execution_count": 232,
     "metadata": {},
     "output_type": "execute_result"
    }
   ],
   "source": [
    "len(np.not_equal(comparer[:ul, 0], labels[-ul:]).astype(float) * beta)"
   ]
  },
  {
   "cell_type": "code",
   "execution_count": 233,
   "metadata": {},
   "outputs": [
    {
     "data": {
      "text/plain": [
       "89"
      ]
     },
     "execution_count": 233,
     "metadata": {},
     "output_type": "execute_result"
    }
   ],
   "source": [
    "len(gibbs[-ul:])"
   ]
  },
  {
   "cell_type": "code",
   "execution_count": 283,
   "metadata": {},
   "outputs": [
    {
     "data": {
      "text/plain": [
       "-11"
      ]
     },
     "execution_count": 283,
     "metadata": {},
     "output_type": "execute_result"
    }
   ],
   "source": [
    "ul"
   ]
  },
  {
   "cell_type": "code",
   "execution_count": 322,
   "metadata": {},
   "outputs": [],
   "source": []
  },
  {
   "cell_type": "code",
   "execution_count": 323,
   "metadata": {
    "collapsed": true
   },
   "outputs": [],
   "source": [
    "fshape = [ii for ii in fp.shape if ii > 0]"
   ]
  },
  {
   "cell_type": "code",
   "execution_count": 324,
   "metadata": {},
   "outputs": [
    {
     "data": {
      "text/plain": [
       "[3, 3]"
      ]
     },
     "execution_count": 324,
     "metadata": {},
     "output_type": "execute_result"
    }
   ],
   "source": [
    "fshape"
   ]
  },
  {
   "cell_type": "code",
   "execution_count": 370,
   "metadata": {},
   "outputs": [
    {
     "data": {
      "text/plain": [
       "array([[False, False, False, False, False],\n",
       "       [False, False, False, False, False],\n",
       "       [False, False, False, False, False],\n",
       "       [False, False, False, False, False],\n",
       "       [False, False, False, False, False],\n",
       "       [False, False, False, False, False],\n",
       "       [False, False, False, False, False],\n",
       "       [False, False, False, False, False],\n",
       "       [False, False, False, False, False],\n",
       "       [False, False, False, False, False]], dtype=bool)"
      ]
     },
     "execution_count": 370,
     "metadata": {},
     "output_type": "execute_result"
    }
   ],
   "source": []
  },
  {
   "cell_type": "code",
   "execution_count": 456,
   "metadata": {},
   "outputs": [
    {
     "data": {
      "text/plain": [
       "array([[ 0.,  1.,  0.,  1.,  0.,  1.,  0.,  1.,  0.,  1.],\n",
       "       [ 0.,  1.,  0.,  1.,  0.,  1.,  0.,  1.,  0.,  1.],\n",
       "       [ 0.,  1.,  0.,  1.,  0.,  1.,  0.,  1.,  0.,  1.],\n",
       "       [ 0.,  1.,  0.,  1.,  0.,  1.,  0.,  1.,  0.,  1.],\n",
       "       [ 0.,  1.,  0.,  1.,  0.,  1.,  0.,  1.,  0.,  1.],\n",
       "       [ 0.,  1.,  0.,  1.,  0.,  1.,  0.,  1.,  0.,  1.],\n",
       "       [ 0.,  1.,  0.,  1.,  0.,  1.,  0.,  1.,  0.,  1.],\n",
       "       [ 0.,  1.,  0.,  1.,  0.,  1.,  0.,  1.,  0.,  1.],\n",
       "       [ 0.,  1.,  0.,  1.,  0.,  1.,  0.,  1.,  0.,  1.],\n",
       "       [ 0.,  1.,  0.,  1.,  0.,  1.,  0.,  1.,  0.,  1.]])"
      ]
     },
     "execution_count": 456,
     "metadata": {},
     "output_type": "execute_result"
    }
   ],
   "source": [
    "grid = np.ones((10,10))\n",
    "grid[:,::2] = 0\n",
    "#grid[::2,:] = 2\n",
    "storage_grid = np.ones((10,10))\n",
    "grid"
   ]
  },
  {
   "cell_type": "code",
   "execution_count": 391,
   "metadata": {},
   "outputs": [
    {
     "data": {
      "text/plain": [
       "array([[0, 0, 0, 0, 1, 0, 0, 0, 0, 0],\n",
       "       [0, 0, 0, 2, 1, 0, 2, 0, 0, 0],\n",
       "       [2, 2, 2, 2, 1, 1, 1, 1, 1, 2],\n",
       "       [2, 1, 2, 2, 1, 1, 1, 1, 1, 2],\n",
       "       [2, 2, 2, 2, 1, 1, 1, 1, 1, 2],\n",
       "       [2, 2, 2, 2, 1, 1, 1, 1, 1, 2],\n",
       "       [2, 1, 0, 0, 0, 0, 1, 2, 2, 2],\n",
       "       [2, 2, 2, 0, 0, 0, 2, 2, 1, 2],\n",
       "       [2, 1, 1, 2, 2, 2, 2, 2, 2, 0],\n",
       "       [2, 1, 2, 2, 2, 2, 2, 1, 2, 2]], dtype=int64)"
      ]
     },
     "execution_count": 391,
     "metadata": {},
     "output_type": "execute_result"
    }
   ],
   "source": [
    "labels = clf.labels[-1]\n",
    "labels_rshp = labels.reshape((10,10))\n",
    "labels_rshp"
   ]
  },
  {
   "cell_type": "code",
   "execution_count": null,
   "metadata": {
    "collapsed": true
   },
   "outputs": [],
   "source": []
  },
  {
   "cell_type": "code",
   "execution_count": null,
   "metadata": {
    "collapsed": true
   },
   "outputs": [],
   "source": []
  },
  {
   "cell_type": "code",
   "execution_count": null,
   "metadata": {
    "collapsed": true
   },
   "outputs": [],
   "source": []
  },
  {
   "cell_type": "code",
   "execution_count": null,
   "metadata": {
    "collapsed": true
   },
   "outputs": [],
   "source": []
  },
  {
   "cell_type": "code",
   "execution_count": 428,
   "metadata": {},
   "outputs": [
    {
     "data": {
      "text/plain": [
       "array([[[0, 0, 0, 0, 0, 0, 0, 0, 0, 0],\n",
       "        [0, 0, 0, 0, 0, 0, 0, 0, 0, 0],\n",
       "        [0, 0, 0, 0, 0, 0, 0, 0, 0, 0],\n",
       "        [0, 0, 0, 0, 0, 0, 0, 0, 0, 0],\n",
       "        [0, 0, 0, 0, 0, 0, 0, 0, 0, 0],\n",
       "        [0, 0, 0, 0, 0, 0, 0, 0, 0, 0],\n",
       "        [0, 0, 0, 0, 0, 0, 0, 0, 0, 0],\n",
       "        [0, 0, 0, 0, 0, 0, 0, 0, 0, 0],\n",
       "        [0, 0, 0, 0, 0, 0, 0, 0, 0, 0],\n",
       "        [0, 0, 0, 0, 0, 0, 0, 0, 0, 0]],\n",
       "\n",
       "       [[1, 1, 1, 1, 1, 1, 1, 1, 1, 1],\n",
       "        [1, 1, 1, 1, 1, 1, 1, 1, 1, 1],\n",
       "        [1, 1, 1, 1, 1, 1, 1, 1, 1, 1],\n",
       "        [1, 1, 1, 1, 1, 1, 1, 1, 1, 1],\n",
       "        [1, 1, 1, 1, 1, 1, 1, 1, 1, 1],\n",
       "        [1, 1, 1, 1, 1, 1, 1, 1, 1, 1],\n",
       "        [1, 1, 1, 1, 1, 1, 1, 1, 1, 1],\n",
       "        [1, 1, 1, 1, 1, 1, 1, 1, 1, 1],\n",
       "        [1, 1, 1, 1, 1, 1, 1, 1, 1, 1],\n",
       "        [1, 1, 1, 1, 1, 1, 1, 1, 1, 1]],\n",
       "\n",
       "       [[2, 2, 2, 2, 2, 2, 2, 2, 2, 2],\n",
       "        [2, 2, 2, 2, 2, 2, 2, 2, 2, 2],\n",
       "        [2, 2, 2, 2, 2, 2, 2, 2, 2, 2],\n",
       "        [2, 2, 2, 2, 2, 2, 2, 2, 2, 2],\n",
       "        [2, 2, 2, 2, 2, 2, 2, 2, 2, 2],\n",
       "        [2, 2, 2, 2, 2, 2, 2, 2, 2, 2],\n",
       "        [2, 2, 2, 2, 2, 2, 2, 2, 2, 2],\n",
       "        [2, 2, 2, 2, 2, 2, 2, 2, 2, 2],\n",
       "        [2, 2, 2, 2, 2, 2, 2, 2, 2, 2],\n",
       "        [2, 2, 2, 2, 2, 2, 2, 2, 2, 2]]], dtype=int64)"
      ]
     },
     "execution_count": 428,
     "metadata": {},
     "output_type": "execute_result"
    }
   ],
   "source": [
    "comp = np.tile(np.zeros_like(labels_rshp), (3,1,1))\n",
    "for l in range(clf.n_labels):\n",
    "    comp[l,:,:] = l\n",
    "comp"
   ]
  },
  {
   "cell_type": "code",
   "execution_count": 504,
   "metadata": {
    "collapsed": true
   },
   "outputs": [],
   "source": [
    "np.not_equal?"
   ]
  },
  {
   "cell_type": "code",
   "execution_count": 527,
   "metadata": {},
   "outputs": [
    {
     "data": {
      "text/plain": [
       "array([[False, False, False, False, False, False, False, False],\n",
       "       [False, False, False, False, False, False, False, False],\n",
       "       [False, False, False, False, False, False, False, False],\n",
       "       [False, False, False, False, False, False, False, False],\n",
       "       [False, False, False, False, False, False, False, False],\n",
       "       [False, False, False, False, False, False, False, False],\n",
       "       [False, False, False, False, False, False, False, False],\n",
       "       [False, False, False, False, False, False, False, False]], dtype=bool)"
      ]
     },
     "execution_count": 527,
     "metadata": {},
     "output_type": "execute_result"
    }
   ],
   "source": [
    "np.not_equal(grid[1:-1,1:-1], grid[0:-2,1:-1])"
   ]
  },
  {
   "cell_type": "code",
   "execution_count": 528,
   "metadata": {},
   "outputs": [
    {
     "data": {
      "text/plain": [
       "array([[ True,  True,  True,  True,  True,  True,  True,  True],\n",
       "       [ True,  True,  True,  True,  True,  True,  True,  True],\n",
       "       [ True,  True,  True,  True,  True,  True,  True,  True],\n",
       "       [ True,  True,  True,  True,  True,  True,  True,  True],\n",
       "       [ True,  True,  True,  True,  True,  True,  True,  True],\n",
       "       [ True,  True,  True,  True,  True,  True,  True,  True],\n",
       "       [ True,  True,  True,  True,  True,  True,  True,  True],\n",
       "       [ True,  True,  True,  True,  True,  True,  True,  True]], dtype=bool)"
      ]
     },
     "execution_count": 528,
     "metadata": {},
     "output_type": "execute_result"
    }
   ],
   "source": [
    "np.not_equal(grid[1:-1,1:-1], grid[1:-1,0:-2])"
   ]
  },
  {
   "cell_type": "code",
   "execution_count": 233,
   "metadata": {},
   "outputs": [
    {
     "data": {
      "text/plain": [
       "(10, 10)"
      ]
     },
     "execution_count": 233,
     "metadata": {},
     "output_type": "execute_result"
    }
   ],
   "source": []
  },
  {
   "cell_type": "code",
   "execution_count": 12,
   "metadata": {
    "scrolled": false
   },
   "outputs": [
    {
     "name": "stdout",
     "output_type": "stream",
     "text": [
      "[[ 2.  2.  2.  2.  2.  2.  2.  2.  2.  2.]\n",
      " [ 2.  2.  2.  2.  2.  2.  2.  2.  2.  2.]\n",
      " [ 0.  0.  1.  0.  0.  0.  0.  0.  0.  0.]\n",
      " [ 0.  0.  0.  1.  0.  0.  0.  0.  0.  0.]\n",
      " [ 0.  0.  0.  0.  1.  0.  0.  0.  0.  0.]\n",
      " [ 0.  0.  0.  0.  0.  1.  0.  0.  0.  0.]\n",
      " [ 0.  0.  0.  0.  0.  0.  1.  0.  0.  0.]\n",
      " [ 0.  0.  0.  0.  0.  0.  0.  1.  0.  0.]\n",
      " [ 0.  0.  0.  0.  0.  0.  0.  0.  1.  0.]\n",
      " [ 0.  0.  0.  0.  0.  0.  0.  0.  0.  1.]]\n",
      "[[[ 1.  1.  1.  1.  1.  1.  1.  1.  1.  1.]\n",
      "  [ 1.  4.  4.  4.  4.  4.  4.  4.  4.  1.]\n",
      "  [ 0.  0.  4.  0.  0.  0.  0.  0.  0.  0.]\n",
      "  [ 0.  0.  0.  4.  0.  0.  0.  0.  0.  0.]\n",
      "  [ 0.  0.  0.  0.  4.  0.  0.  0.  0.  0.]\n",
      "  [ 0.  0.  0.  0.  0.  4.  0.  0.  0.  0.]\n",
      "  [ 0.  0.  0.  0.  0.  0.  4.  0.  0.  0.]\n",
      "  [ 0.  0.  0.  0.  0.  0.  0.  4.  0.  0.]\n",
      "  [ 0.  0.  0.  0.  0.  0.  0.  0.  4.  0.]\n",
      "  [ 0.  0.  0.  0.  0.  0.  0.  0.  0.  1.]]\n",
      "\n",
      " [[ 1.  1.  1.  1.  1.  1.  1.  1.  1.  1.]\n",
      "  [ 1.  4.  4.  4.  4.  4.  4.  4.  4.  1.]\n",
      "  [ 1.  4.  0.  4.  4.  4.  4.  4.  4.  1.]\n",
      "  [ 1.  4.  4.  0.  4.  4.  4.  4.  4.  1.]\n",
      "  [ 1.  4.  4.  4.  0.  4.  4.  4.  4.  1.]\n",
      "  [ 1.  4.  4.  4.  4.  0.  4.  4.  4.  1.]\n",
      "  [ 1.  4.  4.  4.  4.  4.  0.  4.  4.  1.]\n",
      "  [ 1.  4.  4.  4.  4.  4.  4.  0.  4.  1.]\n",
      "  [ 1.  4.  4.  4.  4.  4.  4.  4.  0.  1.]\n",
      "  [ 1.  1.  1.  1.  1.  1.  1.  1.  1.  0.]]\n",
      "\n",
      " [[ 0.  0.  0.  0.  0.  0.  0.  0.  0.  0.]\n",
      "  [ 0.  0.  0.  0.  0.  0.  0.  0.  0.  0.]\n",
      "  [ 1.  4.  4.  4.  4.  4.  4.  4.  4.  1.]\n",
      "  [ 1.  4.  4.  4.  4.  4.  4.  4.  4.  1.]\n",
      "  [ 1.  4.  4.  4.  4.  4.  4.  4.  4.  1.]\n",
      "  [ 1.  4.  4.  4.  4.  4.  4.  4.  4.  1.]\n",
      "  [ 1.  4.  4.  4.  4.  4.  4.  4.  4.  1.]\n",
      "  [ 1.  4.  4.  4.  4.  4.  4.  4.  4.  1.]\n",
      "  [ 1.  4.  4.  4.  4.  4.  4.  4.  4.  1.]\n",
      "  [ 1.  1.  1.  1.  1.  1.  1.  1.  1.  1.]]]\n"
     ]
    },
    {
     "data": {
      "image/png": "[encoded data removed]",
      "text/plain": [
       "<matplotlib.figure.Figure at 0x247a57d4518>"
      ]
     },
     "metadata": {},
     "output_type": "display_data"
    }
   ],
   "source": [
    "def gibbs_energy_2d(self, l, beta):\n",
    "    gibbs_energy = np.tile(np.zeros_like(l).astype(float), (3,1,1))\n",
    "    #print(gibbs_energy)\n",
    "    \n",
    "    # comparison array\n",
    "    comp = np.tile(np.zeros_like(l), (3,1,1)).astype(float)\n",
    "    \n",
    "    for i in range(self.n_labels):\n",
    "        comp[i,:,:] = i\n",
    "        \n",
    "    #print(comp)\n",
    "    #print(np.not_equal(labels[1:-1,1:-1], comp[:,1:-1,0:-2]).astype(float))\n",
    "    # center image\n",
    "    \n",
    "    # above\n",
    "    gibbs_energy[:,1:-1,1:-1] += np.not_equal(l[1:-1, 1:-1], comp[:, :-2, 1:-1]).astype(float) * beta\n",
    "    # below\n",
    "    gibbs_energy[:,1:-1,1:-1] += np.not_equal(l[1:-1, 1:-1], comp[:, 2: , 1:-1]).astype(float) * beta\n",
    "    # left\n",
    "    gibbs_energy[:,1:-1,1:-1] += np.not_equal(l[1:-1, 1:-1], comp[:, 1:-1, :-2]).astype(float) * beta\n",
    "    # right\n",
    "    gibbs_energy[:,1:-1,1:-1] += np.not_equal(l[1:-1, 1:-1], comp[:, 1:-1, 2:]).astype(float) * beta\n",
    "    \n",
    "                                #(  np.not_equal(labels[1:-1, 1:-1], comp[:, 0:-2, 1:-1]).astype(float)  # above\n",
    "                                #+ np.not_equal(labels[1:-1, 1:-1], comp[:, 2:, 1:-1]).astype(float)  # below\n",
    "                                #+ np.not_equal(labels[1:-1, 1:-1], comp[:, 1:-1, 0:-2]).astype(float) # right\n",
    "                                #+ np.not_equal(labels[1:-1, 1:-1], comp[:, 1:-1, 2:]).astype(float)) * beta # left\n",
    "\n",
    "    # left column\n",
    "    gibbs_energy[:,:,0] = np.not_equal(l[:,0], comp[:,:,1]).astype(float) * beta\n",
    "    # right column\n",
    "    gibbs_energy[:,:,-1] = np.not_equal(l[:,-1], comp[:,:,-2]).astype(float) * beta\n",
    "    # top row\n",
    "    gibbs_energy[:,0,:] = np.not_equal(l[0,:], comp[:,1,:]).astype(float) * beta\n",
    "    # bottom row\n",
    "    gibbs_energy[:,-1,:] = np.not_equal(l[-1,:], comp[:,-2,:]).astype(float) * beta\n",
    "\n",
    "    return gibbs_energy\n",
    "\n",
    "# call\n",
    "test = np.eye(10,10)\n",
    "test[:2] = 2\n",
    "print(test)\n",
    "ge = gibbs_energy_2d(clf, test, 1)\n",
    "print(ge)\n",
    "fig, ax = plt.subplots(ncols=clf.n_labels+1, figsize=(15,10))\n",
    "ax[0].set_title(\"labels\")\n",
    "ax[0].imshow(test)\n",
    "ax[0].grid(False)\n",
    "for i in range(clf.n_labels):\n",
    "    ax[i+1].set_title(\"ge label \"+str(i))\n",
    "    ax[i+1].imshow(ge[i,:,:], cmap=\"gray\")\n",
    "    ax[i+1].grid(False)\n"
   ]
  },
  {
   "cell_type": "code",
   "execution_count": 597,
   "metadata": {},
   "outputs": [
    {
     "data": {
      "text/plain": [
       "array([[ 2.,  2.,  2.,  2.,  2.,  2.,  2.,  2.,  2.,  2.],\n",
       "       [ 2.,  2.,  2.,  2.,  2.,  2.,  2.,  2.,  2.,  2.],\n",
       "       [ 0.,  0.,  1.,  0.,  0.,  0.,  0.,  0.,  0.,  0.],\n",
       "       [ 0.,  0.,  0.,  1.,  0.,  0.,  0.,  0.,  0.,  0.],\n",
       "       [ 0.,  0.,  0.,  0.,  1.,  0.,  0.,  0.,  0.,  0.],\n",
       "       [ 0.,  0.,  0.,  0.,  0.,  1.,  0.,  0.,  0.,  0.],\n",
       "       [ 0.,  0.,  0.,  0.,  0.,  0.,  1.,  0.,  0.,  0.],\n",
       "       [ 0.,  0.,  0.,  0.,  0.,  0.,  0.,  1.,  0.,  0.],\n",
       "       [ 0.,  0.,  0.,  0.,  0.,  0.,  0.,  0.,  1.,  0.],\n",
       "       [ 0.,  0.,  0.,  0.,  0.,  0.,  0.,  0.,  0.,  1.]])"
      ]
     },
     "execution_count": 597,
     "metadata": {},
     "output_type": "execute_result"
    }
   ],
   "source": [
    "test"
   ]
  },
  {
   "cell_type": "code",
   "execution_count": 35,
   "metadata": {
    "collapsed": true
   },
   "outputs": [],
   "source": [
    "import skimage.filters as filters"
   ]
  },
  {
   "cell_type": "code",
   "execution_count": 40,
   "metadata": {},
   "outputs": [
    {
     "data": {
      "text/plain": [
       "array([[ 1.,  0.,  0.,  0.,  0.,  0.,  0.,  0.,  0.,  0.],\n",
       "       [ 0.,  1.,  0.,  0.,  0.,  0.,  0.,  0.,  0.,  0.],\n",
       "       [ 0.,  0.,  1.,  0.,  0.,  0.,  0.,  0.,  0.,  0.],\n",
       "       [ 0.,  0.,  0.,  1.,  0.,  0.,  0.,  0.,  0.,  0.],\n",
       "       [ 0.,  0.,  0.,  0.,  1.,  0.,  0.,  0.,  0.,  0.],\n",
       "       [ 0.,  0.,  0.,  0.,  0.,  1.,  0.,  0.,  0.,  0.],\n",
       "       [ 0.,  0.,  0.,  0.,  0.,  0.,  1.,  0.,  0.,  0.],\n",
       "       [ 0.,  0.,  0.,  0.,  0.,  0.,  0.,  1.,  0.,  0.],\n",
       "       [ 0.,  0.,  0.,  0.,  0.,  0.,  0.,  0.,  1.,  0.],\n",
       "       [ 0.,  0.,  0.,  0.,  0.,  0.,  0.,  0.,  0.,  1.]])"
      ]
     },
     "execution_count": 40,
     "metadata": {},
     "output_type": "execute_result"
    }
   ],
   "source": [
    "image"
   ]
  },
  {
   "cell_type": "code",
   "execution_count": 64,
   "metadata": {},
   "outputs": [
    {
     "data": {
      "text/plain": [
       "array([[2, 2, 2, 2, 1, 2, 2, 2, 2, 2],\n",
       "       [2, 2, 2, 0, 1, 2, 2, 2, 2, 2],\n",
       "       [0, 0, 0, 0, 1, 1, 1, 1, 1, 2],\n",
       "       [0, 0, 0, 0, 1, 1, 1, 1, 1, 1],\n",
       "       [0, 1, 0, 0, 1, 1, 1, 1, 1, 0],\n",
       "       [2, 1, 0, 0, 1, 1, 1, 1, 1, 0],\n",
       "       [0, 2, 2, 2, 2, 2, 0, 2, 0, 0],\n",
       "       [0, 0, 2, 0, 2, 2, 0, 2, 0, 0],\n",
       "       [0, 0, 0, 2, 0, 0, 2, 0, 0, 0],\n",
       "       [2, 0, 2, 0, 0, 0, 0, 0, 1, 0]], dtype=int64)"
      ]
     },
     "execution_count": 64,
     "metadata": {},
     "output_type": "execute_result"
    }
   ],
   "source": []
  },
  {
   "cell_type": "code",
   "execution_count": 14,
   "metadata": {},
   "outputs": [],
   "source": [
    "strct4 = np.array([[0,1,0],\n",
    "                   [1,0,1],\n",
    "                   [0,1,0]]).astype(bool)\n",
    "\n",
    "strct8 = np.array([[1,1,1],\n",
    "                   [1,0,1],\n",
    "                   [1,1,1]]).astype(bool)"
   ]
  },
  {
   "cell_type": "code",
   "execution_count": 15,
   "metadata": {},
   "outputs": [],
   "source": [
    "def f(a, value):\n",
    "    # print(a)\n",
    "    a = a[a != -999.]\n",
    "    # print(a)\n",
    "    return np.count_nonzero(a != value)"
   ]
  },
  {
   "cell_type": "code",
   "execution_count": 16,
   "metadata": {
    "collapsed": true
   },
   "outputs": [],
   "source": [
    "img = np.eye(10)"
   ]
  },
  {
   "cell_type": "code",
   "execution_count": 17,
   "metadata": {},
   "outputs": [],
   "source": [
    "ge = np.tile(np.zeros_like(img), (3,1,1))\n",
    "#for i in range(clf.n_labels):\n",
    "#    ge[i,:,:] = i"
   ]
  },
  {
   "cell_type": "code",
   "execution_count": 18,
   "metadata": {
    "collapsed": true
   },
   "outputs": [],
   "source": [
    "from functools import partial"
   ]
  },
  {
   "cell_type": "code",
   "execution_count": 19,
   "metadata": {
    "collapsed": true
   },
   "outputs": [],
   "source": [
    "beta = 1."
   ]
  },
  {
   "cell_type": "code",
   "execution_count": 20,
   "metadata": {},
   "outputs": [
    {
     "name": "stdout",
     "output_type": "stream",
     "text": [
      "2.36 ms ± 45.6 µs per loop (mean ± std. dev. of 7 runs, 100 loops each)\n"
     ]
    }
   ],
   "source": [
    "%%timeit\n",
    "for i in range(clf.n_labels):\n",
    "    ge[i,:,:] = scipy.ndimage.generic_filter(img, partial(f, value=i), footprint=strct4, mode=\"constant\", cval=-999) * beta"
   ]
  },
  {
   "cell_type": "code",
   "execution_count": 30,
   "metadata": {},
   "outputs": [
    {
     "data": {
      "text/plain": [
       "(10, 10, 4)"
      ]
     },
     "execution_count": 30,
     "metadata": {},
     "output_type": "execute_result"
    }
   ],
   "source": [
    "clf.shape"
   ]
  },
  {
   "cell_type": "code",
   "execution_count": 33,
   "metadata": {},
   "outputs": [
    {
     "data": {
      "text/plain": [
       "100"
      ]
     },
     "execution_count": 33,
     "metadata": {},
     "output_type": "execute_result"
    }
   ],
   "source": [
    "clf.feat.shape[0]"
   ]
  },
  {
   "cell_type": "code",
   "execution_count": 29,
   "metadata": {
    "scrolled": true
   },
   "outputs": [
    {
     "data": {
      "text/plain": [
       "array([[ 0.,  2.,  0.],\n",
       "       [ 0.,  0.,  0.],\n",
       "       [ 0.,  0.,  0.],\n",
       "       [ 0.,  2.,  0.],\n",
       "       [ 2.,  0.,  0.],\n",
       "       [ 0.,  0.,  0.],\n",
       "       [ 0.,  0.,  0.],\n",
       "       [ 2.,  0.,  2.],\n",
       "       [ 0.,  0.,  0.],\n",
       "       [ 0.,  0.,  0.],\n",
       "       [ 0.,  0.,  2.],\n",
       "       [ 0.,  2.,  0.],\n",
       "       [ 0.,  0.,  0.],\n",
       "       [ 0.,  0.,  0.],\n",
       "       [ 0.,  2.,  0.],\n",
       "       [ 2.,  0.,  0.],\n",
       "       [ 0.,  0.,  0.],\n",
       "       [ 0.,  0.,  0.],\n",
       "       [ 2.,  0.,  2.],\n",
       "       [ 0.,  0.,  0.],\n",
       "       [ 0.,  0.,  0.],\n",
       "       [ 0.,  0.,  2.],\n",
       "       [ 0.,  2.,  0.],\n",
       "       [ 0.,  0.,  0.],\n",
       "       [ 0.,  0.,  0.],\n",
       "       [ 0.,  2.,  0.],\n",
       "       [ 2.,  0.,  0.],\n",
       "       [ 0.,  0.,  0.],\n",
       "       [ 0.,  0.,  0.],\n",
       "       [ 2.,  0.,  2.],\n",
       "       [ 0.,  0.,  0.],\n",
       "       [ 0.,  0.,  0.],\n",
       "       [ 0.,  0.,  2.],\n",
       "       [ 0.,  2.,  1.],\n",
       "       [ 3.,  3.,  3.],\n",
       "       [ 3.,  3.,  3.],\n",
       "       [ 3.,  2.,  1.],\n",
       "       [ 4.,  2.,  4.],\n",
       "       [ 4.,  4.,  4.],\n",
       "       [ 4.,  4.,  3.],\n",
       "       [ 3.,  2.,  4.],\n",
       "       [ 2.,  4.,  4.],\n",
       "       [ 4.,  4.,  4.],\n",
       "       [ 3.,  3.,  4.],\n",
       "       [ 2.,  4.,  2.],\n",
       "       [ 4.,  4.,  4.],\n",
       "       [ 4.,  3.,  3.],\n",
       "       [ 4.,  4.,  2.],\n",
       "       [ 4.,  2.,  4.],\n",
       "       [ 4.,  4.,  3.],\n",
       "       [ 3.,  4.,  4.],\n",
       "       [ 4.,  2.,  4.],\n",
       "       [ 2.,  4.,  4.],\n",
       "       [ 3.,  3.,  4.],\n",
       "       [ 4.,  4.,  4.],\n",
       "       [ 2.,  4.,  2.],\n",
       "       [ 4.,  3.,  3.],\n",
       "       [ 4.,  4.,  4.],\n",
       "       [ 4.,  4.,  2.],\n",
       "       [ 4.,  2.,  3.],\n",
       "       [ 3.,  4.,  4.],\n",
       "       [ 4.,  4.,  4.],\n",
       "       [ 4.,  2.,  4.],\n",
       "       [ 1.,  2.,  3.],\n",
       "       [ 3.,  3.,  3.],\n",
       "       [ 3.,  3.,  3.],\n",
       "       [ 1.,  2.,  2.],\n",
       "       [ 3.,  3.,  3.],\n",
       "       [ 3.,  3.,  3.],\n",
       "       [ 3.,  3.,  2.],\n",
       "       [ 3.,  4.,  4.],\n",
       "       [ 4.,  4.,  4.],\n",
       "       [ 4.,  4.,  4.],\n",
       "       [ 3.,  3.,  4.],\n",
       "       [ 4.,  4.,  4.],\n",
       "       [ 4.,  4.,  4.],\n",
       "       [ 4.,  3.,  3.],\n",
       "       [ 4.,  4.,  4.],\n",
       "       [ 4.,  4.,  4.],\n",
       "       [ 4.,  4.,  3.],\n",
       "       [ 3.,  4.,  4.],\n",
       "       [ 4.,  4.,  4.],\n",
       "       [ 4.,  4.,  4.],\n",
       "       [ 3.,  3.,  4.],\n",
       "       [ 4.,  4.,  4.],\n",
       "       [ 4.,  4.,  4.],\n",
       "       [ 4.,  3.,  3.],\n",
       "       [ 4.,  4.,  4.],\n",
       "       [ 4.,  4.,  4.],\n",
       "       [ 4.,  4.,  3.],\n",
       "       [ 3.,  4.,  4.],\n",
       "       [ 4.,  4.,  4.],\n",
       "       [ 4.,  4.,  4.],\n",
       "       [ 3.,  3.,  4.],\n",
       "       [ 4.,  4.,  4.],\n",
       "       [ 4.,  4.,  4.],\n",
       "       [ 4.,  3.,  2.],\n",
       "       [ 3.,  3.,  3.],\n",
       "       [ 3.,  3.,  3.],\n",
       "       [ 3.,  3.,  2.]])"
      ]
     },
     "execution_count": 29,
     "metadata": {},
     "output_type": "execute_result"
    }
   ],
   "source": [
    "ge.reshape(100, 3)"
   ]
  },
  {
   "cell_type": "code",
   "execution_count": 230,
   "metadata": {},
   "outputs": [
    {
     "data": {
      "image/png": "[encoded data removed]",
      "text/plain": [
       "<matplotlib.figure.Figure at 0x247ae536198>"
      ]
     },
     "metadata": {},
     "output_type": "display_data"
    }
   ],
   "source": [
    "fig, ax = plt.subplots(ncols=clf.n_labels+1, figsize=(15,10))\n",
    "ax[0].set_title(\"labels\")\n",
    "ax[0].imshow(img)\n",
    "ax[0].grid(False)\n",
    "for i in range(clf.n_labels):\n",
    "    ax[i+1].set_title(\"ge label \"+str(i))\n",
    "    ax[i+1].imshow(ge[i,:,:], cmap=\"gray\")\n",
    "    ax[i+1].grid(False)"
   ]
  },
  {
   "cell_type": "code",
   "execution_count": 146,
   "metadata": {
    "collapsed": true
   },
   "outputs": [],
   "source": [
    "scipy.ndimage.generic_filter?"
   ]
  },
  {
   "cell_type": "code",
   "execution_count": 80,
   "metadata": {},
   "outputs": [
    {
     "data": {
      "text/plain": [
       "array([[2, 2, 2, 2, 1, 2, 2, 2, 2, 2],\n",
       "       [2, 2, 2, 0, 1, 2, 2, 2, 2, 2],\n",
       "       [0, 0, 0, 0, 1, 1, 1, 1, 1, 2],\n",
       "       [0, 0, 0, 0, 1, 1, 1, 1, 1, 1],\n",
       "       [0, 1, 0, 0, 1, 1, 1, 1, 1, 0],\n",
       "       [2, 1, 0, 0, 1, 1, 1, 1, 1, 0],\n",
       "       [0, 2, 2, 2, 2, 2, 0, 2, 0, 0],\n",
       "       [0, 0, 2, 0, 2, 2, 0, 2, 0, 0],\n",
       "       [0, 0, 0, 2, 0, 0, 2, 0, 0, 0],\n",
       "       [2, 0, 2, 0, 0, 0, 0, 0, 1, 0]], dtype=int64)"
      ]
     },
     "execution_count": 80,
     "metadata": {},
     "output_type": "execute_result"
    }
   ],
   "source": [
    "image"
   ]
  },
  {
   "cell_type": "code",
   "execution_count": 34,
   "metadata": {},
   "outputs": [
    {
     "data": {
      "text/plain": [
       "array([[[[ 1.,  0.,  0.],\n",
       "         [ 0.,  1.,  0.],\n",
       "         [ 0.,  0.,  1.]],\n",
       "\n",
       "        [[ 0.,  0.,  0.],\n",
       "         [ 1.,  0.,  0.],\n",
       "         [ 0.,  1.,  0.]],\n",
       "\n",
       "        [[ 0.,  0.,  0.],\n",
       "         [ 0.,  0.,  0.],\n",
       "         [ 1.,  0.,  0.]],\n",
       "\n",
       "        [[ 0.,  0.,  0.],\n",
       "         [ 0.,  0.,  0.],\n",
       "         [ 0.,  0.,  0.]],\n",
       "\n",
       "        [[ 0.,  0.,  0.],\n",
       "         [ 0.,  0.,  0.],\n",
       "         [ 0.,  0.,  0.]],\n",
       "\n",
       "        [[ 0.,  0.,  0.],\n",
       "         [ 0.,  0.,  0.],\n",
       "         [ 0.,  0.,  0.]],\n",
       "\n",
       "        [[ 0.,  0.,  0.],\n",
       "         [ 0.,  0.,  0.],\n",
       "         [ 0.,  0.,  0.]],\n",
       "\n",
       "        [[ 0.,  0.,  0.],\n",
       "         [ 0.,  0.,  0.],\n",
       "         [ 0.,  0.,  0.]]],\n",
       "\n",
       "\n",
       "       [[[ 0.,  1.,  0.],\n",
       "         [ 0.,  0.,  1.],\n",
       "         [ 0.,  0.,  0.]],\n",
       "\n",
       "        [[ 1.,  0.,  0.],\n",
       "         [ 0.,  1.,  0.],\n",
       "         [ 0.,  0.,  1.]],\n",
       "\n",
       "        [[ 0.,  0.,  0.],\n",
       "         [ 1.,  0.,  0.],\n",
       "         [ 0.,  1.,  0.]],\n",
       "\n",
       "        [[ 0.,  0.,  0.],\n",
       "         [ 0.,  0.,  0.],\n",
       "         [ 1.,  0.,  0.]],\n",
       "\n",
       "        [[ 0.,  0.,  0.],\n",
       "         [ 0.,  0.,  0.],\n",
       "         [ 0.,  0.,  0.]],\n",
       "\n",
       "        [[ 0.,  0.,  0.],\n",
       "         [ 0.,  0.,  0.],\n",
       "         [ 0.,  0.,  0.]],\n",
       "\n",
       "        [[ 0.,  0.,  0.],\n",
       "         [ 0.,  0.,  0.],\n",
       "         [ 0.,  0.,  0.]],\n",
       "\n",
       "        [[ 0.,  0.,  0.],\n",
       "         [ 0.,  0.,  0.],\n",
       "         [ 0.,  0.,  0.]]],\n",
       "\n",
       "\n",
       "       [[[ 0.,  0.,  1.],\n",
       "         [ 0.,  0.,  0.],\n",
       "         [ 0.,  0.,  0.]],\n",
       "\n",
       "        [[ 0.,  1.,  0.],\n",
       "         [ 0.,  0.,  1.],\n",
       "         [ 0.,  0.,  0.]],\n",
       "\n",
       "        [[ 1.,  0.,  0.],\n",
       "         [ 0.,  1.,  0.],\n",
       "         [ 0.,  0.,  1.]],\n",
       "\n",
       "        [[ 0.,  0.,  0.],\n",
       "         [ 1.,  0.,  0.],\n",
       "         [ 0.,  1.,  0.]],\n",
       "\n",
       "        [[ 0.,  0.,  0.],\n",
       "         [ 0.,  0.,  0.],\n",
       "         [ 1.,  0.,  0.]],\n",
       "\n",
       "        [[ 0.,  0.,  0.],\n",
       "         [ 0.,  0.,  0.],\n",
       "         [ 0.,  0.,  0.]],\n",
       "\n",
       "        [[ 0.,  0.,  0.],\n",
       "         [ 0.,  0.,  0.],\n",
       "         [ 0.,  0.,  0.]],\n",
       "\n",
       "        [[ 0.,  0.,  0.],\n",
       "         [ 0.,  0.,  0.],\n",
       "         [ 0.,  0.,  0.]]],\n",
       "\n",
       "\n",
       "       [[[ 0.,  0.,  0.],\n",
       "         [ 0.,  0.,  0.],\n",
       "         [ 0.,  0.,  0.]],\n",
       "\n",
       "        [[ 0.,  0.,  1.],\n",
       "         [ 0.,  0.,  0.],\n",
       "         [ 0.,  0.,  0.]],\n",
       "\n",
       "        [[ 0.,  1.,  0.],\n",
       "         [ 0.,  0.,  1.],\n",
       "         [ 0.,  0.,  0.]],\n",
       "\n",
       "        [[ 1.,  0.,  0.],\n",
       "         [ 0.,  1.,  0.],\n",
       "         [ 0.,  0.,  1.]],\n",
       "\n",
       "        [[ 0.,  0.,  0.],\n",
       "         [ 1.,  0.,  0.],\n",
       "         [ 0.,  1.,  0.]],\n",
       "\n",
       "        [[ 0.,  0.,  0.],\n",
       "         [ 0.,  0.,  0.],\n",
       "         [ 1.,  0.,  0.]],\n",
       "\n",
       "        [[ 0.,  0.,  0.],\n",
       "         [ 0.,  0.,  0.],\n",
       "         [ 0.,  0.,  0.]],\n",
       "\n",
       "        [[ 0.,  0.,  0.],\n",
       "         [ 0.,  0.,  0.],\n",
       "         [ 0.,  0.,  0.]]],\n",
       "\n",
       "\n",
       "       [[[ 0.,  0.,  0.],\n",
       "         [ 0.,  0.,  0.],\n",
       "         [ 0.,  0.,  0.]],\n",
       "\n",
       "        [[ 0.,  0.,  0.],\n",
       "         [ 0.,  0.,  0.],\n",
       "         [ 0.,  0.,  0.]],\n",
       "\n",
       "        [[ 0.,  0.,  1.],\n",
       "         [ 0.,  0.,  0.],\n",
       "         [ 0.,  0.,  0.]],\n",
       "\n",
       "        [[ 0.,  1.,  0.],\n",
       "         [ 0.,  0.,  1.],\n",
       "         [ 0.,  0.,  0.]],\n",
       "\n",
       "        [[ 1.,  0.,  0.],\n",
       "         [ 0.,  1.,  0.],\n",
       "         [ 0.,  0.,  1.]],\n",
       "\n",
       "        [[ 0.,  0.,  0.],\n",
       "         [ 1.,  0.,  0.],\n",
       "         [ 0.,  1.,  0.]],\n",
       "\n",
       "        [[ 0.,  0.,  0.],\n",
       "         [ 0.,  0.,  0.],\n",
       "         [ 1.,  0.,  0.]],\n",
       "\n",
       "        [[ 0.,  0.,  0.],\n",
       "         [ 0.,  0.,  0.],\n",
       "         [ 0.,  0.,  0.]]],\n",
       "\n",
       "\n",
       "       [[[ 0.,  0.,  0.],\n",
       "         [ 0.,  0.,  0.],\n",
       "         [ 0.,  0.,  0.]],\n",
       "\n",
       "        [[ 0.,  0.,  0.],\n",
       "         [ 0.,  0.,  0.],\n",
       "         [ 0.,  0.,  0.]],\n",
       "\n",
       "        [[ 0.,  0.,  0.],\n",
       "         [ 0.,  0.,  0.],\n",
       "         [ 0.,  0.,  0.]],\n",
       "\n",
       "        [[ 0.,  0.,  1.],\n",
       "         [ 0.,  0.,  0.],\n",
       "         [ 0.,  0.,  0.]],\n",
       "\n",
       "        [[ 0.,  1.,  0.],\n",
       "         [ 0.,  0.,  1.],\n",
       "         [ 0.,  0.,  0.]],\n",
       "\n",
       "        [[ 1.,  0.,  0.],\n",
       "         [ 0.,  1.,  0.],\n",
       "         [ 0.,  0.,  1.]],\n",
       "\n",
       "        [[ 0.,  0.,  0.],\n",
       "         [ 1.,  0.,  0.],\n",
       "         [ 0.,  1.,  0.]],\n",
       "\n",
       "        [[ 0.,  0.,  0.],\n",
       "         [ 0.,  0.,  0.],\n",
       "         [ 1.,  0.,  0.]]],\n",
       "\n",
       "\n",
       "       [[[ 0.,  0.,  0.],\n",
       "         [ 0.,  0.,  0.],\n",
       "         [ 0.,  0.,  0.]],\n",
       "\n",
       "        [[ 0.,  0.,  0.],\n",
       "         [ 0.,  0.,  0.],\n",
       "         [ 0.,  0.,  0.]],\n",
       "\n",
       "        [[ 0.,  0.,  0.],\n",
       "         [ 0.,  0.,  0.],\n",
       "         [ 0.,  0.,  0.]],\n",
       "\n",
       "        [[ 0.,  0.,  0.],\n",
       "         [ 0.,  0.,  0.],\n",
       "         [ 0.,  0.,  0.]],\n",
       "\n",
       "        [[ 0.,  0.,  1.],\n",
       "         [ 0.,  0.,  0.],\n",
       "         [ 0.,  0.,  0.]],\n",
       "\n",
       "        [[ 0.,  1.,  0.],\n",
       "         [ 0.,  0.,  1.],\n",
       "         [ 0.,  0.,  0.]],\n",
       "\n",
       "        [[ 1.,  0.,  0.],\n",
       "         [ 0.,  1.,  0.],\n",
       "         [ 0.,  0.,  1.]],\n",
       "\n",
       "        [[ 0.,  0.,  0.],\n",
       "         [ 1.,  0.,  0.],\n",
       "         [ 0.,  1.,  0.]]],\n",
       "\n",
       "\n",
       "       [[[ 0.,  0.,  0.],\n",
       "         [ 0.,  0.,  0.],\n",
       "         [ 0.,  0.,  0.]],\n",
       "\n",
       "        [[ 0.,  0.,  0.],\n",
       "         [ 0.,  0.,  0.],\n",
       "         [ 0.,  0.,  0.]],\n",
       "\n",
       "        [[ 0.,  0.,  0.],\n",
       "         [ 0.,  0.,  0.],\n",
       "         [ 0.,  0.,  0.]],\n",
       "\n",
       "        [[ 0.,  0.,  0.],\n",
       "         [ 0.,  0.,  0.],\n",
       "         [ 0.,  0.,  0.]],\n",
       "\n",
       "        [[ 0.,  0.,  0.],\n",
       "         [ 0.,  0.,  0.],\n",
       "         [ 0.,  0.,  0.]],\n",
       "\n",
       "        [[ 0.,  0.,  1.],\n",
       "         [ 0.,  0.,  0.],\n",
       "         [ 0.,  0.,  0.]],\n",
       "\n",
       "        [[ 0.,  1.,  0.],\n",
       "         [ 0.,  0.,  1.],\n",
       "         [ 0.,  0.,  0.]],\n",
       "\n",
       "        [[ 1.,  0.,  0.],\n",
       "         [ 0.,  1.,  0.],\n",
       "         [ 0.,  0.,  1.]]]])"
      ]
     },
     "execution_count": 34,
     "metadata": {},
     "output_type": "execute_result"
    }
   ],
   "source": [
    "import numpy as np\n",
    "from skimage import util\n",
    "\n",
    "image = np.eye(10)\n",
    "\n",
    "windows = util.view_as_windows(image, (3, 3))\n",
    "windows"
   ]
  },
  {
   "cell_type": "code",
   "execution_count": null,
   "metadata": {
    "collapsed": true
   },
   "outputs": [],
   "source": []
  }
 ],
 "metadata": {
  "kernelspec": {
   "display_name": "Python 3",
   "language": "python",
   "name": "python3"
  },
  "language_info": {
   "codemirror_mode": {
    "name": "ipython",
    "version": 3
   },
   "file_extension": ".py",
   "mimetype": "text/x-python",
   "name": "python",
   "nbconvert_exporter": "python",
   "pygments_lexer": "ipython3",
   "version": "3.6.3"
  }
 },
 "nbformat": 4,
 "nbformat_minor": 2
}
