{
 "cells": [
  {
   "cell_type": "code",
   "execution_count": 1,
   "metadata": {},
   "outputs": [],
   "source": [
    "import numpy as np\n",
    "import seaborn\n",
    "import pandas as pd\n",
    "import importlib\n",
    "import matplotlib.pyplot as plt\n",
    "%matplotlib inline\n",
    "import scipy.stats\n",
    "\n",
    "import sys\n",
    "sys.path.append(\"../\")\n",
    "import bayseg"
   ]
  },
  {
   "cell_type": "markdown",
   "metadata": {},
   "source": [
    "### Create 2-dimensional latent field"
   ]
  },
  {
   "cell_type": "code",
   "execution_count": 2,
   "metadata": {
    "collapsed": true
   },
   "outputs": [],
   "source": [
    "n = 10\n",
    "m = 10"
   ]
  },
  {
   "cell_type": "code",
   "execution_count": 3,
   "metadata": {},
   "outputs": [
    {
     "data": {
      "image/png": "[encoded data removed]",
      "text/plain": [
       "<matplotlib.figure.Figure at 0x15869c6e748>"
      ]
     },
     "metadata": {},
     "output_type": "display_data"
    }
   ],
   "source": [
    "latent_2d = np.ones((n,m), dtype=\"int64\")\n",
    "latent_2d[2:6, 4:9] = 2\n",
    "latent_2d[6:8, 2:6] = 0\n",
    "latent_2d[0:2, 0:10] = 0\n",
    "latent_2d[0:2, 4:5] = 2\n",
    "\n",
    "plt.imshow(latent_2d)\n",
    "plt.grid(False)"
   ]
  },
  {
   "cell_type": "markdown",
   "metadata": {},
   "source": [
    "### Sample"
   ]
  },
  {
   "cell_type": "code",
   "execution_count": 4,
   "metadata": {
    "collapsed": true
   },
   "outputs": [],
   "source": [
    "f = 4\n",
    "c1 = scipy.stats.multivariate_normal([7, 7, 11, 3], np.eye(f) * 0.35)\n",
    "c2 = scipy.stats.multivariate_normal([8, 8, 10, 2], np.eye(f) * 0.55)\n",
    "c3 = scipy.stats.multivariate_normal([9, 9, 9, 1], np.eye(f) * 0.15)"
   ]
  },
  {
   "cell_type": "code",
   "execution_count": 5,
   "metadata": {},
   "outputs": [
    {
     "data": {
      "text/plain": [
       "(10, 10, 4)"
      ]
     },
     "execution_count": 5,
     "metadata": {},
     "output_type": "execute_result"
    }
   ],
   "source": [
    "obs = np.zeros((n,m,f))\n",
    "np.shape(obs)"
   ]
  },
  {
   "cell_type": "code",
   "execution_count": 6,
   "metadata": {
    "collapsed": true
   },
   "outputs": [],
   "source": [
    "for i, x in enumerate(latent_2d[:,0]):\n",
    "    for j, y in enumerate(latent_2d[0,:]):\n",
    "        # generate a 2-d random vector at each point\n",
    "        if latent_2d[i, j] == 0:\n",
    "            obs[i,j,:] = c1.rvs()\n",
    "        elif latent_2d[i, j] == 1:\n",
    "            obs[i,j,:] = c2.rvs()\n",
    "        elif latent_2d[i, j] == 2:\n",
    "            obs[i,j,:] = c3.rvs()"
   ]
  },
  {
   "cell_type": "code",
   "execution_count": 7,
   "metadata": {},
   "outputs": [
    {
     "data": {
      "image/png": "[encoded data removed]",
      "text/plain": [
       "<matplotlib.figure.Figure at 0x15865dca780>"
      ]
     },
     "metadata": {},
     "output_type": "display_data"
    }
   ],
   "source": [
    "fig, ax = plt.subplots(ncols=5, figsize=(15,7))\n",
    "for i in range(f+1):\n",
    "    if i == 0:\n",
    "        ax[i].imshow(latent_2d, interpolation=\"nearest\")\n",
    "        ax[i].set_ylabel(\"y\")\n",
    "        ax[i].set_title(\"Latent Field\")\n",
    "    else:\n",
    "        ax[i].imshow(obs[:,:,i-1], interpolation=\"nearest\")\n",
    "        ax[i].set_title(\"Feature \" + str(i))\n",
    "    ax[i].grid(False)\n",
    "    ax[i].set_xlabel(\"x\")\n",
    "    "
   ]
  },
  {
   "cell_type": "markdown",
   "metadata": {},
   "source": [
    "### Collapse into feature vector"
   ]
  },
  {
   "cell_type": "code",
   "execution_count": 8,
   "metadata": {},
   "outputs": [
    {
     "data": {
      "text/plain": [
       "(100, 4)"
      ]
     },
     "execution_count": 8,
     "metadata": {},
     "output_type": "execute_result"
    }
   ],
   "source": [
    "feature_vector = np.array([obs[:,:,0].flatten(),obs[:,:,1].flatten(),obs[:,:,2].flatten(),obs[:,:,3].flatten()]).T\n",
    "np.shape(feature_vector)"
   ]
  },
  {
   "cell_type": "markdown",
   "metadata": {},
   "source": [
    "### Create coords vector"
   ]
  },
  {
   "cell_type": "code",
   "execution_count": 9,
   "metadata": {},
   "outputs": [
    {
     "data": {
      "text/plain": [
       "(100, 2)"
      ]
     },
     "execution_count": 9,
     "metadata": {},
     "output_type": "execute_result"
    }
   ],
   "source": [
    "x,y = np.indices(np.shape(latent_2d))\n",
    "xf = x.flatten()\n",
    "yf = y.flatten()\n",
    "\n",
    "coords_vector = np.array([xf, yf]).T\n",
    "np.shape(coords_vector)"
   ]
  },
  {
   "cell_type": "markdown",
   "metadata": {},
   "source": [
    "### BaySeg initialization"
   ]
  },
  {
   "cell_type": "code",
   "execution_count": 10,
   "metadata": {},
   "outputs": [],
   "source": [
    "clf = bayseg.BaySeg(obs, 3)"
   ]
  },
  {
   "cell_type": "code",
   "execution_count": 19,
   "metadata": {},
   "outputs": [
    {
     "data": {
      "text/plain": [
       "array([[[0, 0],\n",
       "        [0, 2],\n",
       "        [0, 4],\n",
       "        [0, 6],\n",
       "        [0, 8],\n",
       "        [2, 0],\n",
       "        [2, 2],\n",
       "        [2, 4],\n",
       "        [2, 6],\n",
       "        [2, 8],\n",
       "        [4, 0],\n",
       "        [4, 2],\n",
       "        [4, 4],\n",
       "        [4, 6],\n",
       "        [4, 8],\n",
       "        [6, 0],\n",
       "        [6, 2],\n",
       "        [6, 4],\n",
       "        [6, 6],\n",
       "        [6, 8],\n",
       "        [8, 0],\n",
       "        [8, 2],\n",
       "        [8, 4],\n",
       "        [8, 6],\n",
       "        [8, 8]],\n",
       "\n",
       "       [[0, 1],\n",
       "        [0, 3],\n",
       "        [0, 5],\n",
       "        [0, 7],\n",
       "        [0, 9],\n",
       "        [2, 1],\n",
       "        [2, 3],\n",
       "        [2, 5],\n",
       "        [2, 7],\n",
       "        [2, 9],\n",
       "        [4, 1],\n",
       "        [4, 3],\n",
       "        [4, 5],\n",
       "        [4, 7],\n",
       "        [4, 9],\n",
       "        [6, 1],\n",
       "        [6, 3],\n",
       "        [6, 5],\n",
       "        [6, 7],\n",
       "        [6, 9],\n",
       "        [8, 1],\n",
       "        [8, 3],\n",
       "        [8, 5],\n",
       "        [8, 7],\n",
       "        [8, 9]],\n",
       "\n",
       "       [[1, 0],\n",
       "        [1, 2],\n",
       "        [1, 4],\n",
       "        [1, 6],\n",
       "        [1, 8],\n",
       "        [3, 0],\n",
       "        [3, 2],\n",
       "        [3, 4],\n",
       "        [3, 6],\n",
       "        [3, 8],\n",
       "        [5, 0],\n",
       "        [5, 2],\n",
       "        [5, 4],\n",
       "        [5, 6],\n",
       "        [5, 8],\n",
       "        [7, 0],\n",
       "        [7, 2],\n",
       "        [7, 4],\n",
       "        [7, 6],\n",
       "        [7, 8],\n",
       "        [9, 0],\n",
       "        [9, 2],\n",
       "        [9, 4],\n",
       "        [9, 6],\n",
       "        [9, 8]],\n",
       "\n",
       "       [[1, 1],\n",
       "        [1, 3],\n",
       "        [1, 5],\n",
       "        [1, 7],\n",
       "        [1, 9],\n",
       "        [3, 1],\n",
       "        [3, 3],\n",
       "        [3, 5],\n",
       "        [3, 7],\n",
       "        [3, 9],\n",
       "        [5, 1],\n",
       "        [5, 3],\n",
       "        [5, 5],\n",
       "        [5, 7],\n",
       "        [5, 9],\n",
       "        [7, 1],\n",
       "        [7, 3],\n",
       "        [7, 5],\n",
       "        [7, 7],\n",
       "        [7, 9],\n",
       "        [9, 1],\n",
       "        [9, 3],\n",
       "        [9, 5],\n",
       "        [9, 7],\n",
       "        [9, 9]]], dtype=int64)"
      ]
     },
     "execution_count": 19,
     "metadata": {},
     "output_type": "execute_result"
    }
   ],
   "source": [
    "clf.colors"
   ]
  },
  {
   "cell_type": "code",
   "execution_count": 14,
   "metadata": {},
   "outputs": [
    {
     "data": {
      "image/png": "[encoded data removed]",
      "text/plain": [
       "<matplotlib.figure.Figure at 0x1586a743080>"
      ]
     },
     "metadata": {},
     "output_type": "display_data"
    }
   ],
   "source": [
    "plt.imshow(clf.labels[-1].reshape(10,10))\n",
    "plt.grid(False)"
   ]
  },
  {
   "cell_type": "markdown",
   "metadata": {},
   "source": [
    "### Pseudocoloring in 2D with 4-stamp"
   ]
  },
  {
   "cell_type": "code",
   "execution_count": 15,
   "metadata": {
    "collapsed": true
   },
   "outputs": [],
   "source": [
    "e = 10"
   ]
  },
  {
   "cell_type": "code",
   "execution_count": 16,
   "metadata": {},
   "outputs": [
    {
     "data": {
      "image/png": "[encoded data removed]",
      "text/plain": [
       "<matplotlib.figure.Figure at 0x1586a7969e8>"
      ]
     },
     "metadata": {},
     "output_type": "display_data"
    }
   ],
   "source": [
    "plt.imshow(np.tile(np.kron([[0, 1], [1, 0]] * int(e/2), np.ones((1, 1))), int(e/2)), cmap=bayseg.cmap, norm=bayseg.cmap_norm)\n",
    "plt.grid(False)"
   ]
  },
  {
   "cell_type": "markdown",
   "metadata": {},
   "source": [
    "### Pseudocoloring in 2D with 8-stamp"
   ]
  },
  {
   "cell_type": "code",
   "execution_count": 17,
   "metadata": {},
   "outputs": [
    {
     "data": {
      "image/png": "[encoded data removed]",
      "text/plain": [
       "<matplotlib.figure.Figure at 0x1586a7f1828>"
      ]
     },
     "metadata": {},
     "output_type": "display_data"
    }
   ],
   "source": [
    "plt.imshow(np.tile(np.kron([[0, 1], [2, 3]] * int(e/2), np.ones((1, 1))), int(e/2)), cmap=bayseg.cmap, norm=bayseg.cmap_norm)\n",
    "plt.grid(False)"
   ]
  },
  {
   "cell_type": "code",
   "execution_count": 18,
   "metadata": {
    "scrolled": false
   },
   "outputs": [
    {
     "data": {
      "text/plain": [
       "(4, 25, 2)"
      ]
     },
     "execution_count": 18,
     "metadata": {},
     "output_type": "execute_result"
    }
   ],
   "source": [
    "np.shape(clf.colors)"
   ]
  },
  {
   "cell_type": "code",
   "execution_count": null,
   "metadata": {
    "collapsed": true
   },
   "outputs": [],
   "source": []
  }
 ],
 "metadata": {
  "kernelspec": {
   "display_name": "Python 3",
   "language": "python",
   "name": "python3"
  },
  "language_info": {
   "codemirror_mode": {
    "name": "ipython",
    "version": 3
   },
   "file_extension": ".py",
   "mimetype": "text/x-python",
   "name": "python",
   "nbconvert_exporter": "python",
   "pygments_lexer": "ipython3",
   "version": "3.6.3"
  }
 },
 "nbformat": 4,
 "nbformat_minor": 2
}
